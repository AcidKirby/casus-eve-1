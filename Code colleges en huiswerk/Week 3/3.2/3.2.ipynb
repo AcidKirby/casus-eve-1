{
 "cells": [
  {
   "cell_type": "code",
   "execution_count": 2,
   "metadata": {},
   "outputs": [
    {
     "name": "stdout",
     "output_type": "stream",
     "text": [
      "Tobias\n",
      "Hasna\n",
      "Aukje\n"
     ]
    }
   ],
   "source": [
    "# bestaande file openen\n",
    "file = open(\"namen.txt\")\n",
    "\n",
    "# inhoud openen en alles in één string opslaan\n",
    "inhoud = file.read()\n",
    "print(inhoud)\n",
    "\n",
    "# bestand sluiten\n",
    "file.close()"
   ]
  },
  {
   "cell_type": "code",
   "execution_count": null,
   "metadata": {},
   "outputs": [],
   "source": [
    "# bestaande file openen\n",
    "with open(\"namen.txt\") as file:\n",
    "\n",
    "    # inhoud openen en alles in één string opslaan\n",
    "    inhoud = file.read()\n",
    "    print(inhoud)\n",
    "\n",
    "    # handmatig .close() aanroepen hoeft niet meer\n",
    "    # dit wordt gedaan als je uit deze scope komt"
   ]
  },
  {
   "cell_type": "code",
   "execution_count": 3,
   "metadata": {},
   "outputs": [
    {
     "name": "stdout",
     "output_type": "stream",
     "text": [
      "Tobias\n",
      "Hasna\n",
      "Aukje\n"
     ]
    }
   ],
   "source": [
    "# bestaande file openen\n",
    "with open(\"namen.txt\") as file:\n",
    "\n",
    "    # inhoud openen en alles in één string opslaan\n",
    "    inhoud = file.read()\n",
    "    print(inhoud)\n",
    "\n",
    "    # terug naar het begin\n",
    "    file.seek(0)"
   ]
  },
  {
   "cell_type": "code",
   "execution_count": 5,
   "metadata": {},
   "outputs": [
    {
     "name": "stdout",
     "output_type": "stream",
     "text": [
      "3\n",
      "Persoon: Tobias\n",
      "\n",
      "Persoon: Hasna\n",
      "\n",
      "Persoon: Aukje\n"
     ]
    }
   ],
   "source": [
    "# bestaande file openen\n",
    "with open(\"namen.txt\") as file:\n",
    "\n",
    "    # inhoud openen en alles in een lijst opslaan\n",
    "    inhoud = file.readlines()\n",
    "    print(len(inhoud)) # 3\n",
    "\n",
    "    # loopen door lijst\n",
    "    for naam in inhoud:\n",
    "        print(f\"Persoon: {naam}\")"
   ]
  },
  {
   "cell_type": "code",
   "execution_count": null,
   "metadata": {},
   "outputs": [],
   "source": [
    "# alleen lezen\n",
    "open(\"namen.txt\")\n",
    "open(\"namen.txt\", \"r\") # hetzelfde als hierboven\n",
    "\n",
    "# lezen en schrijven\n",
    "open(\"namen.txt\", \"r+\")\n",
    "\n",
    "# en veel meer...\n",
    "\n"
   ]
  },
  {
   "cell_type": "code",
   "execution_count": 7,
   "metadata": {},
   "outputs": [],
   "source": [
    "import datetime\n",
    "\n",
    "with open(\"notities.txt\", \"a\") as bestand:\n",
    "    vandaag = datetime.date.today()\n",
    "    bestand.write(f\"Notitie {vandaag}\\n\")\n",
    "\n",
    "    antwoord = input(\"Typ een notitie, of typ 'stop' als je klaar bent\")\n",
    "    while antwoord != \"stop\":\n",
    "        bestand.write(f\"{antwoord}\\n\")\n",
    "        antwoord = input(\"Typ een notitie, of typ 'stop' als je klaar bent\")"
   ]
  },
  {
   "cell_type": "code",
   "execution_count": null,
   "metadata": {},
   "outputs": [],
   "source": [
    "{\n",
    "    \"naam\": \"Piet de Boer\",\n",
    "    \"hobbys\": [\"hardlopen\", \"zingen\", \"tekenen\"],\n",
    "    \"kinderen\": [\n",
    "        {\n",
    "            \"naam\": \"Alice\",\n",
    "            \"leeftijd\": 15\n",
    "        },\n",
    "        {\n",
    "            \"naam\": \"Bob\",\n",
    "            \"leeftijd\": 18\n",
    "        }\n",
    "    ]\n",
    "}"
   ]
  },
  {
   "cell_type": "code",
   "execution_count": 8,
   "metadata": {},
   "outputs": [
    {
     "name": "stdout",
     "output_type": "stream",
     "text": [
      "Student: Piet, cijfer: 5.8\n",
      "Student: Sem, cijfer: 9\n",
      "Student: Alice, cijfer: 2.1\n"
     ]
    }
   ],
   "source": [
    "import json\n",
    "\n",
    "# gegevens in een bestand opslaan\n",
    "cijfers = {\"Piet\": 5.8, \"Sem\": 9, \"Alice\": 2.1}\n",
    "with open(\"cijfers.txt\", \"w\") as bestand:\n",
    "    json.dump(cijfers, bestand)\n",
    "\n",
    "# gegevens uit een bestand ophalen\n",
    "with open(\"cijfers.txt\", \"r\") as bestand:\n",
    "    gegevens = json.load(bestand)\n",
    "\n",
    "    for naam, cijfer in gegevens.items():\n",
    "        print(f\"Student: {naam}, cijfer: {cijfer}\")"
   ]
  },
  {
   "cell_type": "code",
   "execution_count": 10,
   "metadata": {},
   "outputs": [
    {
     "name": "stdout",
     "output_type": "stream",
     "text": [
      "Het gaat over: Piet de Boer\n",
      "De kinderen zijn: \n",
      "Alice is 15\n",
      "Bob is 18\n"
     ]
    }
   ],
   "source": [
    "import json\n",
    "\n",
    "with open(\"voorbeeld.json\") as json_bestand:\n",
    "    gegevens = json.load(json_bestand)\n",
    "\n",
    "    naam = gegevens[\"naam\"]\n",
    "    print(\"Het gaat over: \" + naam)\n",
    "\n",
    "    kinderen = gegevens[\"kinderen\"]\n",
    "\n",
    "    print(\"De kinderen zijn: \")\n",
    "    for kind_dictionary in kinderen:\n",
    "        kind_naam = kind_dictionary[\"naam\"]\n",
    "        kind_leeftijd = kind_dictionary[\"leeftijd\"]\n",
    "        print(f\"{kind_naam} is {kind_leeftijd}\")"
   ]
  },
  {
   "cell_type": "code",
   "execution_count": 15,
   "metadata": {},
   "outputs": [
    {
     "name": "stdout",
     "output_type": "stream",
     "text": [
      "Piet de Boer\n",
      "tekenen\n",
      "Alice\n",
      "18\n",
      "hardlopen\n",
      "zingen\n",
      "tekenen\n",
      "15\n",
      "18\n"
     ]
    }
   ],
   "source": [
    "with open(\"voorbeeld.json\") as json_bestand:\n",
    "    gegevens = json.load(json_bestand)\n",
    "\n",
    "    print(gegevens[\"naam\"])\n",
    "    print(gegevens[\"hobbys\"][2])\n",
    "    print(gegevens[\"hardlopen\"])\n",
    "    print(gegevens[\"kinderen\"][\"naam\"])\n",
    "    print(gegevens[\"kinderen\"][0][\"naam\"])\n",
    "    print(gegevens[\"kinderen\"][1][\"leeftijd\"])\n",
    "\n",
    "    for x in gegevens[\"hobbys\"]:\n",
    "        print(x)\n",
    "\n",
    "    for x in gegevens[\"kinderen\"]:\n",
    "        print(x[\"leeftijd\"])"
   ]
  },
  {
   "cell_type": "code",
   "execution_count": 17,
   "metadata": {},
   "outputs": [
    {
     "name": "stdout",
     "output_type": "stream",
     "text": [
      "Improve your touch typing\n"
     ]
    }
   ],
   "source": [
    "import json\n",
    "from urllib import request\n",
    "\n",
    "url = \"https://www.boredapi.com/api/activity\"\n",
    "\n",
    "with request.urlopen(url) as url_data:\n",
    "    json_string = url_data.read().decode()\n",
    "    gegevens = json.loads(json_string)\n",
    "\n",
    "    print(gegevens[\"activity\"])"
   ]
  },
  {
   "cell_type": "code",
   "execution_count": 21,
   "metadata": {},
   "outputs": [
    {
     "ename": "HTTPError",
     "evalue": "HTTP Error 403: Forbidden",
     "output_type": "error",
     "traceback": [
      "\u001b[1;31m---------------------------------------------------------------------------\u001b[0m",
      "\u001b[1;31mHTTPError\u001b[0m                                 Traceback (most recent call last)",
      "Cell \u001b[1;32mIn[21], line 6\u001b[0m\n\u001b[0;32m      2\u001b[0m \u001b[38;5;28;01mfrom\u001b[39;00m \u001b[38;5;21;01murllib\u001b[39;00m \u001b[38;5;28;01mimport\u001b[39;00m request\n\u001b[0;32m      4\u001b[0m url \u001b[38;5;241m=\u001b[39m \u001b[38;5;124m\"\u001b[39m\u001b[38;5;124mhttps://api.nobelprize.org/2.1/nobelPrizes?nobelPrizeYear=2023\u001b[39m\u001b[38;5;124m\"\u001b[39m\n\u001b[1;32m----> 6\u001b[0m \u001b[38;5;28;01mwith\u001b[39;00m \u001b[43mrequest\u001b[49m\u001b[38;5;241;43m.\u001b[39;49m\u001b[43murlopen\u001b[49m\u001b[43m(\u001b[49m\u001b[43murl\u001b[49m\u001b[43m)\u001b[49m \u001b[38;5;28;01mas\u001b[39;00m url_data:\n\u001b[0;32m      7\u001b[0m     json_string \u001b[38;5;241m=\u001b[39m url_data\u001b[38;5;241m.\u001b[39mread()\u001b[38;5;241m.\u001b[39mdecode()\n\u001b[0;32m      8\u001b[0m     gegevens \u001b[38;5;241m=\u001b[39m json\u001b[38;5;241m.\u001b[39mloads(json_string)\n",
      "File \u001b[1;32mC:\\Program Files\\WindowsApps\\PythonSoftwareFoundation.Python.3.11_3.11.2288.0_x64__qbz5n2kfra8p0\\Lib\\urllib\\request.py:216\u001b[0m, in \u001b[0;36murlopen\u001b[1;34m(url, data, timeout, cafile, capath, cadefault, context)\u001b[0m\n\u001b[0;32m    214\u001b[0m \u001b[38;5;28;01melse\u001b[39;00m:\n\u001b[0;32m    215\u001b[0m     opener \u001b[38;5;241m=\u001b[39m _opener\n\u001b[1;32m--> 216\u001b[0m \u001b[38;5;28;01mreturn\u001b[39;00m \u001b[43mopener\u001b[49m\u001b[38;5;241;43m.\u001b[39;49m\u001b[43mopen\u001b[49m\u001b[43m(\u001b[49m\u001b[43murl\u001b[49m\u001b[43m,\u001b[49m\u001b[43m \u001b[49m\u001b[43mdata\u001b[49m\u001b[43m,\u001b[49m\u001b[43m \u001b[49m\u001b[43mtimeout\u001b[49m\u001b[43m)\u001b[49m\n",
      "File \u001b[1;32mC:\\Program Files\\WindowsApps\\PythonSoftwareFoundation.Python.3.11_3.11.2288.0_x64__qbz5n2kfra8p0\\Lib\\urllib\\request.py:525\u001b[0m, in \u001b[0;36mOpenerDirector.open\u001b[1;34m(self, fullurl, data, timeout)\u001b[0m\n\u001b[0;32m    523\u001b[0m \u001b[38;5;28;01mfor\u001b[39;00m processor \u001b[38;5;129;01min\u001b[39;00m \u001b[38;5;28mself\u001b[39m\u001b[38;5;241m.\u001b[39mprocess_response\u001b[38;5;241m.\u001b[39mget(protocol, []):\n\u001b[0;32m    524\u001b[0m     meth \u001b[38;5;241m=\u001b[39m \u001b[38;5;28mgetattr\u001b[39m(processor, meth_name)\n\u001b[1;32m--> 525\u001b[0m     response \u001b[38;5;241m=\u001b[39m \u001b[43mmeth\u001b[49m\u001b[43m(\u001b[49m\u001b[43mreq\u001b[49m\u001b[43m,\u001b[49m\u001b[43m \u001b[49m\u001b[43mresponse\u001b[49m\u001b[43m)\u001b[49m\n\u001b[0;32m    527\u001b[0m \u001b[38;5;28;01mreturn\u001b[39;00m response\n",
      "File \u001b[1;32mC:\\Program Files\\WindowsApps\\PythonSoftwareFoundation.Python.3.11_3.11.2288.0_x64__qbz5n2kfra8p0\\Lib\\urllib\\request.py:634\u001b[0m, in \u001b[0;36mHTTPErrorProcessor.http_response\u001b[1;34m(self, request, response)\u001b[0m\n\u001b[0;32m    631\u001b[0m \u001b[38;5;66;03m# According to RFC 2616, \"2xx\" code indicates that the client's\u001b[39;00m\n\u001b[0;32m    632\u001b[0m \u001b[38;5;66;03m# request was successfully received, understood, and accepted.\u001b[39;00m\n\u001b[0;32m    633\u001b[0m \u001b[38;5;28;01mif\u001b[39;00m \u001b[38;5;129;01mnot\u001b[39;00m (\u001b[38;5;241m200\u001b[39m \u001b[38;5;241m<\u001b[39m\u001b[38;5;241m=\u001b[39m code \u001b[38;5;241m<\u001b[39m \u001b[38;5;241m300\u001b[39m):\n\u001b[1;32m--> 634\u001b[0m     response \u001b[38;5;241m=\u001b[39m \u001b[38;5;28;43mself\u001b[39;49m\u001b[38;5;241;43m.\u001b[39;49m\u001b[43mparent\u001b[49m\u001b[38;5;241;43m.\u001b[39;49m\u001b[43merror\u001b[49m\u001b[43m(\u001b[49m\n\u001b[0;32m    635\u001b[0m \u001b[43m        \u001b[49m\u001b[38;5;124;43m'\u001b[39;49m\u001b[38;5;124;43mhttp\u001b[39;49m\u001b[38;5;124;43m'\u001b[39;49m\u001b[43m,\u001b[49m\u001b[43m \u001b[49m\u001b[43mrequest\u001b[49m\u001b[43m,\u001b[49m\u001b[43m \u001b[49m\u001b[43mresponse\u001b[49m\u001b[43m,\u001b[49m\u001b[43m \u001b[49m\u001b[43mcode\u001b[49m\u001b[43m,\u001b[49m\u001b[43m \u001b[49m\u001b[43mmsg\u001b[49m\u001b[43m,\u001b[49m\u001b[43m \u001b[49m\u001b[43mhdrs\u001b[49m\u001b[43m)\u001b[49m\n\u001b[0;32m    637\u001b[0m \u001b[38;5;28;01mreturn\u001b[39;00m response\n",
      "File \u001b[1;32mC:\\Program Files\\WindowsApps\\PythonSoftwareFoundation.Python.3.11_3.11.2288.0_x64__qbz5n2kfra8p0\\Lib\\urllib\\request.py:563\u001b[0m, in \u001b[0;36mOpenerDirector.error\u001b[1;34m(self, proto, *args)\u001b[0m\n\u001b[0;32m    561\u001b[0m \u001b[38;5;28;01mif\u001b[39;00m http_err:\n\u001b[0;32m    562\u001b[0m     args \u001b[38;5;241m=\u001b[39m (\u001b[38;5;28mdict\u001b[39m, \u001b[38;5;124m'\u001b[39m\u001b[38;5;124mdefault\u001b[39m\u001b[38;5;124m'\u001b[39m, \u001b[38;5;124m'\u001b[39m\u001b[38;5;124mhttp_error_default\u001b[39m\u001b[38;5;124m'\u001b[39m) \u001b[38;5;241m+\u001b[39m orig_args\n\u001b[1;32m--> 563\u001b[0m     \u001b[38;5;28;01mreturn\u001b[39;00m \u001b[38;5;28;43mself\u001b[39;49m\u001b[38;5;241;43m.\u001b[39;49m\u001b[43m_call_chain\u001b[49m\u001b[43m(\u001b[49m\u001b[38;5;241;43m*\u001b[39;49m\u001b[43margs\u001b[49m\u001b[43m)\u001b[49m\n",
      "File \u001b[1;32mC:\\Program Files\\WindowsApps\\PythonSoftwareFoundation.Python.3.11_3.11.2288.0_x64__qbz5n2kfra8p0\\Lib\\urllib\\request.py:496\u001b[0m, in \u001b[0;36mOpenerDirector._call_chain\u001b[1;34m(self, chain, kind, meth_name, *args)\u001b[0m\n\u001b[0;32m    494\u001b[0m \u001b[38;5;28;01mfor\u001b[39;00m handler \u001b[38;5;129;01min\u001b[39;00m handlers:\n\u001b[0;32m    495\u001b[0m     func \u001b[38;5;241m=\u001b[39m \u001b[38;5;28mgetattr\u001b[39m(handler, meth_name)\n\u001b[1;32m--> 496\u001b[0m     result \u001b[38;5;241m=\u001b[39m \u001b[43mfunc\u001b[49m\u001b[43m(\u001b[49m\u001b[38;5;241;43m*\u001b[39;49m\u001b[43margs\u001b[49m\u001b[43m)\u001b[49m\n\u001b[0;32m    497\u001b[0m     \u001b[38;5;28;01mif\u001b[39;00m result \u001b[38;5;129;01mis\u001b[39;00m \u001b[38;5;129;01mnot\u001b[39;00m \u001b[38;5;28;01mNone\u001b[39;00m:\n\u001b[0;32m    498\u001b[0m         \u001b[38;5;28;01mreturn\u001b[39;00m result\n",
      "File \u001b[1;32mC:\\Program Files\\WindowsApps\\PythonSoftwareFoundation.Python.3.11_3.11.2288.0_x64__qbz5n2kfra8p0\\Lib\\urllib\\request.py:643\u001b[0m, in \u001b[0;36mHTTPDefaultErrorHandler.http_error_default\u001b[1;34m(self, req, fp, code, msg, hdrs)\u001b[0m\n\u001b[0;32m    642\u001b[0m \u001b[38;5;28;01mdef\u001b[39;00m \u001b[38;5;21mhttp_error_default\u001b[39m(\u001b[38;5;28mself\u001b[39m, req, fp, code, msg, hdrs):\n\u001b[1;32m--> 643\u001b[0m     \u001b[38;5;28;01mraise\u001b[39;00m HTTPError(req\u001b[38;5;241m.\u001b[39mfull_url, code, msg, hdrs, fp)\n",
      "\u001b[1;31mHTTPError\u001b[0m: HTTP Error 403: Forbidden"
     ]
    }
   ],
   "source": [
    "import json\n",
    "from urllib import request\n",
    "\n",
    "url = \"http://api.nobelprize.org/2.1/nobelPrizes?nobelPrizeYear=2023\"\n",
    "\n",
    "with request.urlopen(url) as url_data:\n",
    "    json_string = url_data.read().decode()\n",
    "    gegevens = json.loads(json_string)\n",
    "\n",
    "    #for nobel_prijs in gegevens[\"nobelPrizes\"]:\n",
    "    #    print(nobel_prijs[\"categoryFullName\"][\"en\"])"
   ]
  }
 ],
 "metadata": {
  "kernelspec": {
   "display_name": "Python 3",
   "language": "python",
   "name": "python3"
  },
  "language_info": {
   "codemirror_mode": {
    "name": "ipython",
    "version": 3
   },
   "file_extension": ".py",
   "mimetype": "text/x-python",
   "name": "python",
   "nbconvert_exporter": "python",
   "pygments_lexer": "ipython3",
   "version": "3.11.8"
  }
 },
 "nbformat": 4,
 "nbformat_minor": 2
}
