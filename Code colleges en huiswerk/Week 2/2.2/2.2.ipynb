{
 "cells": [
  {
   "cell_type": "code",
   "execution_count": 1,
   "metadata": {},
   "outputs": [
    {
     "name": "stdout",
     "output_type": "stream",
     "text": [
      "Vrijdag\n"
     ]
    }
   ],
   "source": [
    "dag_nummer = int(input(\"Voer een dag (1 - 7) in: \"))\n",
    "\n",
    "if dag_nummer == 1:\n",
    "    print(\"Maandag\")\n",
    "elif dag_nummer == 2:\n",
    "    print(\"Dinsdag\")\n",
    "elif dag_nummer == 3:\n",
    "    print(\"Woensdag\")\n",
    "elif dag_nummer == 4:\n",
    "    print(\"Donderdag\")\n",
    "elif dag_nummer == 5:\n",
    "    print(\"Vrijdag\")\n",
    "elif dag_nummer == 6:\n",
    "    print(\"Zaterdag\")\n",
    "elif dag_nummer == 7:\n",
    "    print(\"Zondag\")\n",
    "else:\n",
    "    print(\"Onbekend\")"
   ]
  },
  {
   "cell_type": "code",
   "execution_count": 3,
   "metadata": {},
   "outputs": [
    {
     "name": "stdout",
     "output_type": "stream",
     "text": [
      "Woensdag\n"
     ]
    }
   ],
   "source": [
    "def naam_van_dag(nummer):\n",
    "    if nummer == 1:\n",
    "        print(\"Maandag\")\n",
    "    elif nummer == 2:\n",
    "        print(\"Dinsdag\")\n",
    "    elif nummer == 3:\n",
    "        print(\"Woensdag\")\n",
    "    elif nummer == 4:\n",
    "        print(\"Donderdag\")\n",
    "    elif nummer == 5:\n",
    "        print(\"Vrijdag\")\n",
    "    elif nummer == 6:\n",
    "        print(\"Zaterdag\")\n",
    "    elif nummer == 7:\n",
    "        print(\"Zondag\")\n",
    "    else:\n",
    "        print(\"Onbekend\")\n",
    "\n",
    "dag_nummer = int(input(\"Voer een dag (1 - 7) in: \"))\n",
    "naam_van_dag(dag_nummer)\n",
    "\n"
   ]
  },
  {
   "cell_type": "code",
   "execution_count": 7,
   "metadata": {},
   "outputs": [
    {
     "name": "stdout",
     "output_type": "stream",
     "text": [
      "15\n"
     ]
    }
   ],
   "source": [
    "def optellen(getal1, getal2):\n",
    "    totaal = getal1 + getal2\n",
    "    return totaal\n",
    "\n",
    "getal_som = optellen(5, 10)\n",
    "print(getal_som)"
   ]
  },
  {
   "cell_type": "code",
   "execution_count": null,
   "metadata": {},
   "outputs": [],
   "source": [
    "print(\"Hallo!\") # 1 parameter (string), geen return\n",
    "input(\"Wat is je naam?\") # 1 parameter (string), returnt een string\n",
    "str(100) # 1 parameter (int/float), returnt een string\n",
    "int(\"100\") # 1 parameter (string), returnt een int"
   ]
  },
  {
   "cell_type": "code",
   "execution_count": 8,
   "metadata": {},
   "outputs": [
    {
     "name": "stdout",
     "output_type": "stream",
     "text": [
      "250\n"
     ]
    }
   ],
   "source": [
    "totaal = optellen(50, optellen(100, 100))\n",
    "print(totaal) # 250"
   ]
  },
  {
   "cell_type": "code",
   "execution_count": 10,
   "metadata": {},
   "outputs": [
    {
     "name": "stdout",
     "output_type": "stream",
     "text": [
      "50\n"
     ]
    }
   ],
   "source": [
    "def optellen(getal1, getal2):\n",
    "    totaal = getal1 + getal2\n",
    "    return totaal\n",
    "\n",
    "def vermenigvuldigen(getal1, getal2, getal3):\n",
    "    totaal = getal1 * getal2 * getal3\n",
    "    return totaal\n",
    "\n",
    "som = optellen(optellen(100, -200), optellen(vermenigvuldigen(2, 5, 10), 50))\n",
    "print(som)"
   ]
  },
  {
   "cell_type": "code",
   "execution_count": 20,
   "metadata": {},
   "outputs": [
    {
     "name": "stdout",
     "output_type": "stream",
     "text": [
      "126\n"
     ]
    }
   ],
   "source": [
    "def correctie_snelheid(km_per_uur):\n",
    "    if km_per_uur > 100:\n",
    "        km_per_uur = km_per_uur - 4\n",
    "\n",
    "    return km_per_uur\n",
    "\n",
    "kmu = correctie_snelheid(130)\n",
    "print(kmu)"
   ]
  },
  {
   "cell_type": "code",
   "execution_count": 21,
   "metadata": {},
   "outputs": [
    {
     "name": "stdout",
     "output_type": "stream",
     "text": [
      "--- To be or not to be ---\n"
     ]
    }
   ],
   "source": [
    "def print_citaat(citaat):\n",
    "    print(f\"--- {citaat} ---\")\n",
    "\n",
    "print_citaat(\"To be or not to be\")"
   ]
  },
  {
   "cell_type": "code",
   "execution_count": 24,
   "metadata": {},
   "outputs": [
    {
     "name": "stdout",
     "output_type": "stream",
     "text": [
      "--- Julius Caesar: Alea iacta est ---\n"
     ]
    }
   ],
   "source": [
    "def print_citaat_2(auteur, citaat):\n",
    "    print(f\"--- {auteur}: {citaat} ---\")\n",
    "\n",
    "print_citaat_2(\"Julius Caesar\", \"Alea iacta est\")"
   ]
  },
  {
   "cell_type": "code",
   "execution_count": 26,
   "metadata": {},
   "outputs": [
    {
     "name": "stdout",
     "output_type": "stream",
     "text": [
      "14\n"
     ]
    }
   ],
   "source": [
    "def tel_op(start_getal, eind_getal):\n",
    "    som = 0\n",
    "    for index in range(start_getal, eind_getal + 1):\n",
    "        som += index\n",
    "    return som\n",
    "\n",
    "print(tel_op(2, 5))"
   ]
  }
 ],
 "metadata": {
  "kernelspec": {
   "display_name": "Python 3",
   "language": "python",
   "name": "python3"
  },
  "language_info": {
   "codemirror_mode": {
    "name": "ipython",
    "version": 3
   },
   "file_extension": ".py",
   "mimetype": "text/x-python",
   "name": "python",
   "nbconvert_exporter": "python",
   "pygments_lexer": "ipython3",
   "version": "3.11.8"
  }
 },
 "nbformat": 4,
 "nbformat_minor": 2
}
