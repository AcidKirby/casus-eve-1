{
 "cells": [
  {
   "cell_type": "markdown",
   "metadata": {},
   "source": [
    "# Opdrachten les 2.2\n",
    "Maak de volgende opdrachten voor het volgende werkcollege. Tijdens het werkcolleges kunnen we deze dan bespreken en hierop voort bouwen. Over het algemeen worden de opdrachten steeds moeilijker. Geef niet te snel op en blijf proberen!"
   ]
  },
  {
   "cell_type": "markdown",
   "metadata": {},
   "source": [
    "### Opdracht 2.1a\n",
    "Deze regel zorgt ervoor dat de letter T wordt geprint, voorafgegaan door 5 spaties:\n",
    "```python\n",
    "print(\" \" * 5+ \"T\")\n",
    "```\n",
    "Maak nu een functie die een bepaald teken kan printen, voorafgegaan door een aantal spatie:\n",
    "```python\n",
    "def printMetSpaties(aantalSpaties, teken):\n",
    "    ...\n",
    "```\n",
    "Gebruik in de functie de print-regel hierboven, maar neem in plaats van het getal 5 de variabele aantalSpaties en in plaats van \"T\" de variabele teken. Je kunt de functie met de volgende regels aanroepen om te testen of je de functie goed gemaakt hebt:\n",
    "```python\n",
    "printMetSpaties(0, \"+\")\n",
    "printMetSpaties(1, \"-\")\n",
    "printMetSpaties(2, \"*\")\n",
    "```\n",
    "Het resultaat is dan:\n",
    "```\n",
    "+\n",
    " -\n",
    "  *\n",
    "```"
   ]
  },
  {
   "cell_type": "code",
   "execution_count": null,
   "metadata": {},
   "outputs": [],
   "source": [
    "# opgave 2.1a\n",
    "\n",
    "def printMetSpaties(aantalSpaties, teken):\n",
    "    ...\n",
    "\n",
    "\n",
    "\n",
    "printMetSpaties(0, \"+\")\n",
    "printMetSpaties(1, \"-\")\n",
    "printMetSpaties(2, \"*\")"
   ]
  },
  {
   "cell_type": "markdown",
   "metadata": {},
   "source": [
    "### Opdracht 2.1b\n",
    "Maak nu een nieuwe functie waarmee je ook kunt aangeven hoe vaak het teken herhaald moet worden. Probeer de volgende regels uit om de functie aan te roepen:\n",
    "```python\n",
    "printAantalKeerMetSpaties(1, \"O\", 5)\n",
    "printAantalKeerMetSpaties(2, \"#\", 2)\n",
    "```\n",
    "Het resultaat moet er dan zo uit zien:\n",
    "```\n",
    " OOOOO\n",
    "  ##"
   ]
  },
  {
   "cell_type": "code",
   "execution_count": null,
   "metadata": {},
   "outputs": [],
   "source": [
    "# opgave 2.1b\n",
    "\n",
    "def printAantalKeerMetSpaties(aantalSpaties, teken, aantalKeerTeken):\n",
    "    ...\n",
    "\n",
    "printAantalKeerMetSpaties(1, \"O\", 5)\n",
    "printAantalKeerMetSpaties(2, \"#\", 2)"
   ]
  },
  {
   "cell_type": "markdown",
   "metadata": {},
   "source": [
    "### Opdracht 2.1c\n",
    "We voegen nu de volgende import regel toe:\n",
    "```python\n",
    "import time\n",
    "```\n",
    "En deze regels:\n",
    "```python\n",
    "while True:\n",
    "    for i in range(20):\n",
    "        printAantalKeerMetSpaties(i, \"*\", i)\n",
    "        time.sleep(0.05)\n",
    "    for i in range(20, 0, -1):\n",
    "        printAantalKeerMetSpaties(i, \"*\", i)\n",
    "        time.sleep(0.05)\n",
    "```\n",
    "Probeer te bedenken wat je nu te zien krijgt voor je de regels code hieronder toevoegd en start. Je kunt het programma stopzetten met de 'interrupt' knop.\n",
    "\n",
    "Probeer verschillende patronen te maken door de code aan te passen.\n"
   ]
  },
  {
   "cell_type": "code",
   "execution_count": null,
   "metadata": {},
   "outputs": [],
   "source": [
    "# opgave 2.1c\n",
    "\n",
    "import time\n",
    "\n",
    "while True:\n",
    "    for i in range(20):\n",
    "        printAantalKeerMetSpaties(i, \"*\", i)\n",
    "        time.sleep(0.05)\n",
    "    for i in range(20, 0, -1):\n",
    "        printAantalKeerMetSpaties(i, \"*\", i)\n",
    "        time.sleep(0.05)"
   ]
  },
  {
   "cell_type": "markdown",
   "metadata": {},
   "source": [
    "\n",
    "### Opdracht 2.2a\n",
    "\n",
    "Maak een functie met de naam telOp, waar je twee getallen aan kan meegeven. Deze functie geeft een waarde terug met een return. De waarde wordt als volgt berekend:\n",
    "\n",
    "telOp(2, 5) => 2 + 3 + 4 + 5 = 14\n",
    "\n",
    "of\n",
    "\n",
    "telOp(1, 6) => 1 + 2 + 3 + 4 + 5 + 6 = 21\n",
    "\n",
    "Je kunt je functie testen door de volgende code in te typen. Deze code zou 45 op het scherm moeten zetten.\n",
    "```python\n",
    "\n",
    "print (telOp(5, 10))\n"
   ]
  },
  {
   "cell_type": "code",
   "execution_count": null,
   "metadata": {},
   "outputs": [],
   "source": [
    "# opgave 2.2a\n",
    "\n",
    "def telOp(getal1, getal2):\n",
    "   ...\n",
    "\n",
    "print(telOp(5, 10))\n"
   ]
  },
  {
   "cell_type": "markdown",
   "metadata": {},
   "source": [
    "### Opdracht 2.2b\n",
    "Maak een functie die het gemiddelde van twee getallen berekent en deze met return teruggeeft. Bedenk zelf hoe je de functie moet aanroepen en controleer met een aantal voorbeelden of de functie het juiste antwoord geeft."
   ]
  },
  {
   "cell_type": "code",
   "execution_count": null,
   "metadata": {},
   "outputs": [],
   "source": [
    "# opgave 2.2b\n",
    "\n",
    "def gemiddeld(getal1, getal2):\n",
    "    ...\n",
    "    return gemiddeld\n",
    "\n",
    "\n"
   ]
  },
  {
   "cell_type": "markdown",
   "metadata": {},
   "source": [
    "### Opdracht 2.2c\n",
    "De volgende functie kijkt of getal1 en getal2 opgeteld gelijk aan som zijn. Dit geldt bijvoorbeeld wel voor getal1=5 en getal2=2 en een som=7 (de functie geeft true terug) en het geldt niet in het geval van getal1=5 en getal2=4 en een som van 8 (de functie geeft false terug).\n",
    "\n",
    "Maak deze functie af:\n",
    "```python\n",
    "def isSom(getal1, getal2, som):\n",
    "    ...\n",
    "```\n",
    "De functie moet bruikbaar zijn in een if-statement, zoals:\n",
    "```python\n",
    "if isSom(3, 4, 8):\n",
    "    print(\"Som!\")\n",
    "else:\n",
    "    print(\"Geen som!\")"
   ]
  },
  {
   "cell_type": "code",
   "execution_count": null,
   "metadata": {},
   "outputs": [],
   "source": [
    "# opgave 2.2c\n",
    "def isSom(getal1, getal2, som):\n",
    "    ...\n",
    "\n",
    "if isSom(3, 4, 8):\n",
    "    print(\"Som!\")\n",
    "else:\n",
    "    print(\"Geen som!\")\n",
    "\n",
    "if isSom(3, 4, 7):\n",
    "    print(\"Som!\")\n",
    "else:\n",
    "    print(\"Geen som!\")\n"
   ]
  },
  {
   "cell_type": "markdown",
   "metadata": {},
   "source": [
    "### Opdracht 2.3a\n",
    "Met de randint(...)functie kun je een willekeurig getal van 1 t/m 6 krijgen:\n",
    "```python\n",
    "import random\n",
    "\n",
    "worp = random.randint(1, 6)\n",
    "```\n",
    "Maak hiervan gebruik om de functie gooiDobbelsteen() te maken. Deze functie moet het willekeurige getal printen. Je kunt de functie dan bijvoorbeeld zo gebruiken:\n",
    "```python\n",
    "for i in range(3):\n",
    "    gooiDobbelsteen()\n",
    "```\n",
    "Resultaat:\n",
    "```\n",
    "4\n",
    "1\n",
    "5\n",
    "```\n"
   ]
  },
  {
   "cell_type": "code",
   "execution_count": null,
   "metadata": {},
   "outputs": [],
   "source": [
    "# opgave 2.3a\n",
    "\n",
    "import random\n",
    "\n",
    "# opgave a\n",
    "def gooiDobbelsteen():\n",
    "    ...\n",
    "\n",
    "for i in range(3):\n",
    "    gooi = gooiDobbelsteen()\n",
    "    print(gooi)\n",
    "\n"
   ]
  },
  {
   "cell_type": "markdown",
   "metadata": {},
   "source": [
    "### Opdracht 2.3b\n",
    "Voeg nu de variabele totaal toe aan je programma met als waarde 0. Maak een while waarin steeds opnieuw gegooid wordt. Elke worp moet bij het totaal worden opgeteld. De while moet stoppen als het totaal groter is dan 20, bijvoorbeeld:\n",
    "```\n",
    "4 totaal: 4\n",
    "6 totaal: 10\n",
    "3 totaal: 13\n",
    "5 totaal: 18\n",
    "3 totaal: 21"
   ]
  },
  {
   "cell_type": "code",
   "execution_count": null,
   "metadata": {},
   "outputs": [],
   "source": [
    "# opgave 2.3b\n",
    "\n",
    "totaal = 0\n",
    "while ..."
   ]
  },
  {
   "cell_type": "markdown",
   "metadata": {},
   "source": [
    "### Opdracht 2.4a\n",
    "maak de functie dagenNaarUren(aantalDagen) Deze functie berekent het aantal uren in het opgegeven aantal dagen en retourneert dat aantal. Test bijvoorbeeld met:\n",
    "```python\n",
    "dagen = int(input(\"hoeveel dagen? \"))\n",
    "uren = dagenNaarUren(dagen)\n",
    "print(f\"{dagen} dagen = {uren} uren\")\n",
    "```\n",
    "je krijgt dan:\n",
    "```\n",
    "hoeveel dagen? 2\n",
    "2 dagen = 48 uren\n",
    "```\n"
   ]
  },
  {
   "cell_type": "code",
   "execution_count": null,
   "metadata": {},
   "outputs": [],
   "source": [
    "# opgave 2.4a\n",
    "\n",
    "def dagenNaarUren(aantalDagen):\n",
    "    ...\n",
    "\n",
    "dagen = int(input(\"hoeveel dagen? \"))\n",
    "uren = dagenNaarUren(dagen)\n",
    "print(f\"{dagen} dagen = {uren} uren\")"
   ]
  },
  {
   "cell_type": "markdown",
   "metadata": {},
   "source": [
    "### Opdracht 2.4b\n",
    "\n",
    "Maak nu ook de functie dagenNaarMinuten(aantalDagen). Dit kun je op twee manieren doen:\n",
    "1. De functie vermenigvuldigt het aantal dagen met 24 voor het aantal uren en ook nog met 60 voor het aantal minuten: returnaantalDagen * 24 * 60\n",
    "2. De functie gebruikt eerst de functie uit opgave a om het aantal uren te bepalen en vermenigvuldigt dat vervolgens met 60: return dagenNaarUren(aantalDagen) * 60  \n",
    "\n",
    "Probeer de 2e methode te gebruiken"
   ]
  },
  {
   "cell_type": "code",
   "execution_count": null,
   "metadata": {},
   "outputs": [],
   "source": [
    "# opgave 2.4b\n",
    "\n",
    "def dagenNaarMinuten(aantalDagen):\n",
    "    ...\n",
    "\n",
    "dagen = int(input(\"hoeveel dagen? \"))\n",
    "uren = dagenNaarUren(dagen)\n",
    "minuten = dagenNaarMinuten(dagen)\n",
    "\n",
    "print(f\"{dagen} dagen = {uren} uren = {minuten} minuten\")\n"
   ]
  },
  {
   "cell_type": "markdown",
   "metadata": {},
   "source": [
    "### Opdracht 2.4c\n",
    "\n",
    "Maak op dezelfde manier nog de functie dagenNaarSeconden(aantalDagen)  \n",
    "Test het programma nu met:\n",
    "```python\n",
    "dagen = int(input(\"hoeveel dagen? \"))\n",
    "uren = dagenNaarUren(dagen)\n",
    "minuten = dagenNaarMinuten(dagen)\n",
    "seconden = dagenNaarSeconden(dagen)\n",
    "print(f\"{dagen} dagen = {uren} uren = {minuten} minuten = {seconden} seconden\")\n",
    "```\n",
    "Resultaat:\n",
    "```\n",
    "hoeveel dagen? 3\n",
    "3 dagen = 72 uren = 4320 minuten = 259200 seconden"
   ]
  },
  {
   "cell_type": "code",
   "execution_count": null,
   "metadata": {},
   "outputs": [],
   "source": [
    "# opgave 2.4c\n",
    "\n",
    "def dagenNaarSeconden(aantalDagen):\n",
    "    ...\n",
    "\n",
    "\n",
    "dagen = int(input(\"hoeveel dagen? \"))\n",
    "uren = dagenNaarUren(dagen)\n",
    "minuten = dagenNaarMinuten(dagen)\n",
    "seconden = dagenNaarSeconden(dagen)\n",
    "\n",
    "print(f\"{dagen} dagen = {uren} uren = {minuten} minuten = {seconden} seconden\")\n"
   ]
  },
  {
   "cell_type": "markdown",
   "metadata": {},
   "source": [
    "### Opdracht 2.5a\n",
    "\n",
    "Een postbedrijf stuurt een e-mail wanneer een pakket verzonden is. De meeste tekst is standaard, de naam van de geadresseerde is persoonlijk. Schrijf de functie printMail die de mail tekst op het scherm zet:\n",
    "```python\n",
    "printMail(\"Onno de Vries\")\n",
    "```\n",
    "Resultaat is dan:\n",
    "```\n",
    "Beste Onno de Vries,\n",
    "Je pakket is verzonden.\n",
    "\n",
    "Vriendelijke groeten,\n",
    "Snelpakket.nl\n"
   ]
  },
  {
   "cell_type": "code",
   "execution_count": null,
   "metadata": {},
   "outputs": [],
   "source": [
    "# opgave 2.5a\n",
    "\n",
    "def printMail(naam):\n",
    "    ...\n",
    "\n",
    "printMail(\"Onno de Vries\")\n",
    "\n",
    "\n"
   ]
  },
  {
   "cell_type": "markdown",
   "metadata": {},
   "source": [
    "### Opdracht 2.5b\n",
    "Voeg nu een variabele toe voor de dag waarop het pakket verzonden is:\n",
    "```python\n",
    "printMail(\"Onno de Vries\", \"maandag\")\n",
    "```\n",
    "Resultaat:\n",
    "```\n",
    "Beste Onno de Vries,\n",
    "Je pakket is maandag verzonden.\n",
    "\n",
    "Vriendelijke groeten,\n",
    "Snelpakket.nl"
   ]
  },
  {
   "cell_type": "code",
   "execution_count": null,
   "metadata": {},
   "outputs": [],
   "source": [
    "# opgave 2.5b\n",
    "\n",
    "def printMail(naam,dag):\n",
    "    ...\n",
    "\n",
    "printMail(\"Onno de Vries\",\"maandag\")\n",
    "\n"
   ]
  },
  {
   "cell_type": "markdown",
   "metadata": {},
   "source": [
    "### Opdracht 2.5c\n",
    "\n",
    "Nu maak je de functie wat flexibeler zodat er een mail verstuurd kan worden wanneer het pakket al verstuurd is, maar ook om aan te geven dat het pakket verstuurd gaat worden. Voeg hiervoor een boolean variabele isVerstuurd toe aan de functie. De volgende aanroep levert daarbij hetzelfde resultaat op als bij opgave b:\n",
    "```python\n",
    "printMail(\"Onno de Vries\", \"maandag\", TRUE)\n",
    "```\n",
    "Als je echter FALSE meegeeft (en het pakket nog verzonden moet worden) krijg je het volgende resultaat:\n",
    "```\n",
    "Beste Onno de Vries,\n",
    "Je pakket wordt maandag verzonden.\n",
    "\n",
    "Vriendelijke groeten,\n",
    "Snelpakket.nl"
   ]
  },
  {
   "cell_type": "code",
   "execution_count": null,
   "metadata": {},
   "outputs": [],
   "source": [
    "# opgave 2.5c\n",
    "\n",
    "def printMail(naam,dag,isVerstuurd):\n",
    "    ...\n",
    "\n",
    "printMail(\"Onno de Vries\",\"maandag\",True)"
   ]
  },
  {
   "cell_type": "markdown",
   "metadata": {},
   "source": [
    "### Opdracht 2.5d\n",
    "\n",
    "Het kan natuurlijk zo zijn dat het pakket vandaag wordt verstuurd of al is verstuurd. Hiervoor is de volgende oplossing bedacht: als er geen tekst in de variabele staat betekent dat vandaag:\n",
    "```python\n",
    "printMail(\"Onno de Vries\", \"\", TRUE)\n",
    "printMail(\"Ansu Fati\", \"\", FALSE)\n",
    "```\n",
    "Levert:\n",
    "```\n",
    "Beste Onno de Vries,\n",
    "Je pakket is vandaag verzonden.\n",
    "\n",
    "Vriendelijke groeten,\n",
    "Snelpakket.nl\n",
    "\n",
    "Beste Ansu Fati,\n",
    "Je pakket wordt vandaag verzonden.\n",
    "\n",
    "Vriendelijke groeten,\n",
    "Snelpakket.nl"
   ]
  },
  {
   "cell_type": "code",
   "execution_count": null,
   "metadata": {},
   "outputs": [],
   "source": [
    "# opgave 2.5d\n",
    "\n",
    "def printMail(naam, dag, isVerstuurd):\n",
    "    ...\n",
    "\n",
    "printMail(\"Onno de Vries\", \"maandag\", True)\n",
    "printMail(\"Onno de Vries\", \"maandag\", False)\n",
    "printMail(\"Onno de Vries\", \"\", True)\n",
    "printMail(\"Onno de Vries\", \"\", False)\n"
   ]
  },
  {
   "cell_type": "markdown",
   "metadata": {},
   "source": [
    "### Opdracht 2.6a\n",
    "Schrijf de functie tekenRondje() die de volgende code print:\n",
    "```\n",
    "O\n",
    "```\n",
    "Test nu met de volgende code. Als het goed is zie je nu drie rondjes naast elkaar.\n",
    "```python\n",
    "tekenRondje()\n",
    "tekenRondje()\n",
    "tekenRondje()"
   ]
  },
  {
   "cell_type": "code",
   "execution_count": null,
   "metadata": {},
   "outputs": [],
   "source": [
    "# opgave 2.6a\n",
    "\n",
    "def tekenRondje():\n",
    "    ...\n",
    "\n",
    "tekenRondje()\n",
    "tekenRondje()\n",
    "tekenRondje()\n"
   ]
  },
  {
   "cell_type": "markdown",
   "metadata": {},
   "source": [
    "### Opdracht 2.6b\n",
    "\n",
    "Schrijf nu de functie tekenLijn(aantal). Deze functie voert aantal keer de functie tekenRondje uit.\n",
    "\n",
    "Test je code met:\n",
    "```python\n",
    "tekenLijn(1)\n",
    "tekenLijn(2)\n",
    "tekenLijn(3)\n",
    "```\n",
    "Resultaat:\n",
    "```\n",
    "O\n",
    "OO\n",
    "OOO"
   ]
  },
  {
   "cell_type": "code",
   "execution_count": 59,
   "metadata": {},
   "outputs": [
    {
     "name": "stdout",
     "output_type": "stream",
     "text": [
      "O\n",
      "OO\n",
      "OOO\n"
     ]
    }
   ],
   "source": [
    "# opgave 2.6b\n",
    "\n",
    "def tekenLijn(aantal):\n",
    "    ...\n",
    "\n",
    "tekenLijn(1)\n",
    "tekenLijn(2)\n",
    "tekenLijn(3)\n",
    "\n"
   ]
  },
  {
   "cell_type": "markdown",
   "metadata": {},
   "source": [
    "### Opdracht 2.6c\n",
    "\n",
    "Schrijf nu de functie tekenRechthoek(hoogte, breedte). Deze functie maakt gebruik van de functie tekenLijn.\n",
    "\n",
    "Test met:\n",
    "```python\n",
    "tekenRechthoek(3,5)\n",
    "```\n",
    "```\n",
    "OOOOO\n",
    "OOOOO\n",
    "OOOOO"
   ]
  },
  {
   "cell_type": "code",
   "execution_count": null,
   "metadata": {},
   "outputs": [],
   "source": [
    "# opgave 2.6c\n",
    "\n",
    "def tekenRechthoek(hoogte, breedte):\n",
    "    ...\n",
    "\n",
    "tekenRechthoek(3, 5)\n",
    "\n"
   ]
  },
  {
   "cell_type": "markdown",
   "metadata": {},
   "source": [
    "### Opdracht 2.6d\n",
    "\n",
    "Schrijf nu de functie tekenVierkant(lengte). Maak slim gebruik van de functie tekenRechthoek().\n",
    "```python\n",
    "tekenVierkant(3)\n",
    "```\n",
    "```\n",
    "OOO\n",
    "OOO\n",
    "OOO"
   ]
  },
  {
   "cell_type": "code",
   "execution_count": null,
   "metadata": {},
   "outputs": [],
   "source": [
    "# opgave2.6d\n",
    "\n",
    "def tekenVierkant(lengte):\n",
    "    ...\n",
    "\n",
    "tekenVierkant(3)\n"
   ]
  },
  {
   "cell_type": "markdown",
   "metadata": {},
   "source": [
    "### Opdracht 2.6e\n",
    "\n",
    "Schrijf een functie die een driehoek tekent met een opgegeven hoogte. Maak gebruik van de functie tekenLijn.\n",
    "\n",
    "Bijvoorbeeld:\n",
    "```python\n",
    "tekenDriehoek(4)\n",
    "```\n",
    "```\n",
    "O\n",
    "OO\n",
    "OOO\n",
    "OOOO"
   ]
  },
  {
   "cell_type": "code",
   "execution_count": 63,
   "metadata": {},
   "outputs": [
    {
     "name": "stdout",
     "output_type": "stream",
     "text": [
      "O\n",
      "OO\n",
      "OOO\n",
      "OOOO\n",
      "OOOOO\n",
      "OOOOOO\n",
      "OOOOOOO\n",
      "OOOOOOOO\n",
      "OOOOOOOOO\n",
      "OOOOOOOOOO\n"
     ]
    }
   ],
   "source": [
    "# opgave 2.6e\n",
    "\n",
    "def tekenDriehoek(hoogte):\n",
    "    ...\n",
    "\n",
    "tekenDriehoek(10)\n"
   ]
  },
  {
   "cell_type": "markdown",
   "metadata": {},
   "source": [
    "### Opdracht 2.6f\n",
    "\n",
    "Bedenk hoe je een functie kunt maken tekenPiramide() die als volgt werkt:\n",
    "```python\n",
    "tekenPiramide(5)\n",
    "```\n",
    "```\n",
    "    O\n",
    "   OOO\n",
    "  OOOOO\n",
    " OOOOOOO\n",
    "OOOOOOOOO"
   ]
  },
  {
   "cell_type": "code",
   "execution_count": 65,
   "metadata": {},
   "outputs": [
    {
     "name": "stdout",
     "output_type": "stream",
     "text": [
      "    O\n",
      "   OOO\n",
      "  OOOOO\n",
      " OOOOOOO\n",
      "OOOOOOOOO\n"
     ]
    }
   ],
   "source": [
    "def tekenPiramide(hoogte):\n",
    "    ...\n",
    "\n",
    "tekenPiramide(5)"
   ]
  },
  {
   "cell_type": "code",
   "execution_count": null,
   "metadata": {},
   "outputs": [],
   "source": []
  }
 ],
 "metadata": {
  "kernelspec": {
   "display_name": "base",
   "language": "python",
   "name": "python3"
  },
  "language_info": {
   "codemirror_mode": {
    "name": "ipython",
    "version": 3
   },
   "file_extension": ".py",
   "mimetype": "text/x-python",
   "name": "python",
   "nbconvert_exporter": "python",
   "pygments_lexer": "ipython3",
   "version": "3.11.7"
  }
 },
 "nbformat": 4,
 "nbformat_minor": 2
}
