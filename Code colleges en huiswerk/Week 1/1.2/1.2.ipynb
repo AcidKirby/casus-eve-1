{
 "cells": [
  {
   "cell_type": "code",
   "execution_count": 5,
   "metadata": {},
   "outputs": [
    {
     "name": "stdout",
     "output_type": "stream",
     "text": [
      "False True False False False False True False True False\n"
     ]
    }
   ],
   "source": [
    "#and\n",
    "\n",
    "r1 = True and False # false\n",
    "r2 = True and True # true\n",
    "r3 = False and True # false\n",
    "r4 = False and False # false\n",
    "r5 = (True and True) and False # false\n",
    "r6 = (True and False) and False # false\n",
    "r7 = (15 == 15) and (5 < 25) # true\n",
    "r8 = (10 == 10 and 5 != 15) and False # false\n",
    " \n",
    "temperatuur = 18\n",
    "r9 = temperatuur > 10 and temperatuur < 20 # true\n",
    "r10 = temperatuur < 10 and temperatuur != 15 and temperatuur >= 18 # false\n",
    "\n",
    "print(r1, r2, r3, r4, r5, r6, r7, r8, r9, r10)\n"
   ]
  },
  {
   "cell_type": "code",
   "execution_count": 6,
   "metadata": {},
   "outputs": [
    {
     "name": "stdout",
     "output_type": "stream",
     "text": [
      "True True True False False False True True True True\n"
     ]
    }
   ],
   "source": [
    "#or\n",
    "\n",
    "r1 = True or False # true\n",
    "r2 = True or True # true\n",
    "r3 = False or True # true\n",
    "r4 = False or False # false\n",
    "r5 = (True or True) and False # false \n",
    "r6 = (False or False) and False  # false\n",
    "r7 = (15 == 15) or (5 < 25) # true\n",
    "r8 = (10 == 10 and 5 != 15) or True # true \n",
    " \n",
    "temperatuur = 18\n",
    "r9 = temperatuur > 10 or temperatuur < 20 # true\n",
    "r10 = temperatuur < 10 and temperatuur != 15 or temperatuur >= 18 # true\n",
    "\n",
    "print(r1, r2, r3, r4, r5, r6, r7, r8, r9, r10)"
   ]
  },
  {
   "cell_type": "code",
   "execution_count": 9,
   "metadata": {},
   "outputs": [
    {
     "name": "stdout",
     "output_type": "stream",
     "text": [
      "False False True True True True True True False False\n"
     ]
    }
   ],
   "source": [
    "# not\n",
    "r1 = not True or False # false\n",
    "r2 = False or not True # false\n",
    "r3 = not False or not True # true\n",
    "r4 = not False and not False # true\n",
    "r5 = (True and not not True) and True # true \n",
    "r6 = (False or True) and not False # true\n",
    "r7 = (15 == 15) or (5 < 25) # true\n",
    "r8 = (10 == 10 and 5 != 15) or not True # true \n",
    " \n",
    "temperatuur = 18\n",
    "r9 = not (temperatuur > 10 or temperatuur < 20) # false\n",
    "r10 = temperatuur < 10 and temperatuur != 15 or not temperatuur >= 18 # false \n",
    "\n",
    "print(r1, r2, r3, r4, r5, r6, r7, r8, r9, r10)"
   ]
  },
  {
   "cell_type": "code",
   "execution_count": 10,
   "metadata": {},
   "outputs": [
    {
     "name": "stdout",
     "output_type": "stream",
     "text": [
      "D: 18- of lid met voldoende punten, dus korting\n",
      "E: ouder dan 12, geen kinderkorting\n"
     ]
    },
    {
     "ename": "",
     "evalue": "",
     "output_type": "error",
     "traceback": [
      "\u001b[1;31mThe Kernel crashed while executing code in the current cell or a previous cell. \n",
      "\u001b[1;31mPlease review the code in the cell(s) to identify a possible cause of the failure. \n",
      "\u001b[1;31mClick <a href='https://aka.ms/vscodeJupyterKernelCrash'>here</a> for more info. \n",
      "\u001b[1;31mView Jupyter <a href='command:jupyter.viewOutput'>log</a> for further details."
     ]
    }
   ],
   "source": [
    "leeftijd = 30\n",
    "is_lid = True\n",
    "bonus_punten = 50\n",
    "\n",
    "if leeftijd > 18 and not is_lid:\n",
    "    print(\"A: 18+, geen lid, geen korting\")\n",
    "    if bonus_punten > 40 or leeftijd >= 65:\n",
    "        print(\"B: maar wel speciale bonus\")\n",
    "    else:\n",
    "        print(\"C: geen speciale bonus\")      \n",
    "elif leeftijd < 18 or (is_lid and bonus_punten >= 50):\n",
    "    print(\"D: 18- of lid met voldoende punten, dus korting\")\n",
    "    if not (leeftijd < 12):\n",
    "        print(\"E: ouder dan 12, geen kinderkorting\")\n",
    "    else:\n",
    "        print(\"F: jonger dan 12, extra kinderkorting\")\n",
    "else:\n",
    "    print(\"G: geen directe korting\")\n",
    "    if leeftijd > 65:\n",
    "        print(\"H: maar wel seniorenkorting\")\n",
    "    else:\n",
    "        print(\"I: ook geen seniorenkorting\")\n"
   ]
  },
  {
   "cell_type": "code",
   "execution_count": null,
   "metadata": {},
   "outputs": [],
   "source": [
    "graden_verwarming = 0\n",
    "dag_van_week = int(input(\"Voer het dagnummer in (1=Maandag, 7=Zondag): \"))\n",
    "huidig_uur = int(input(\"Voer het huidige uur in (0-23): \"))\n",
    "\n",
    "if dag_van_week >= 1 and dag_van_week <= 5:\n",
    "    if huidig_uur >= 18:\n",
    "        graden_verwarming = 19\n",
    "    else:\n",
    "        graden_verwarming = 16\n",
    "else:\n",
    "    if huidig_uur >= 12:\n",
    "        graden_verwarming = 19\n",
    "    else:\n",
    "        graden_verwarming = 16\n"
   ]
  },
  {
   "cell_type": "code",
   "execution_count": null,
   "metadata": {},
   "outputs": [],
   "source": [
    "getal_1 = 50\n",
    "getal_2 = 150\n",
    "\n",
    "a = getal_1 + getal_2 # 200\n",
    "b = getal_1 - getal_2 # -100\n",
    "c = getal_1 * getal_2 # 7500\n",
    "d = getal_1 / getal_2 # 0,33\n",
    "e = getal_1 % getal_2 # 50\n",
    "f = \"Hallo\" + \" iedereen\" # \"Hallo iedereen\" (concat)\n",
    "\n",
    "a = getal_1 > getal_2 # false\n",
    "b = getal_1 < getal_2 # true\n",
    "c = getal_1 >= getal_2 # false\n",
    "d = getal_1 <= getal_2 # true\n",
    "e = getal_1 != getal_2 # true\n",
    "f = getal_1 == getal_2 # false"
   ]
  }
 ],
 "metadata": {
  "kernelspec": {
   "display_name": "Python 3",
   "language": "python",
   "name": "python3"
  },
  "language_info": {
   "codemirror_mode": {
    "name": "ipython",
    "version": 3
   },
   "file_extension": ".py",
   "mimetype": "text/x-python",
   "name": "python",
   "nbconvert_exporter": "python",
   "pygments_lexer": "ipython3",
   "version": "3.11.8"
  }
 },
 "nbformat": 4,
 "nbformat_minor": 2
}
