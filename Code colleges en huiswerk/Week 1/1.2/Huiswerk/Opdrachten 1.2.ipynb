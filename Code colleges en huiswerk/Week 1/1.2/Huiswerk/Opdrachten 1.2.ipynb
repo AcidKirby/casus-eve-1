{
 "cells": [
  {
   "cell_type": "markdown",
   "metadata": {},
   "source": [
    "# Opdrachten les 1.2\n",
    "Maak de volgende opdrachten voor het volgende werkcollege. Tijdens het werkcolleges kunnen we deze dan bespreken en hierop voort bouwen. Over het algemeen worden de opdrachten steeds moeilijker. Geef niet te snel op en blijf proberen!"
   ]
  },
  {
   "cell_type": "markdown",
   "metadata": {},
   "source": [
    "### Opdracht 2.1\n",
    "Bekijk het programma en bedenk wat het zal doen. Wat gebeurt er als je het aantal verandert? Probeer het programma nu uit, ook met een ander aantal.\n",
    "\n",
    "Voeg nu onder de print regel een if-statement toe. Controleer hierin of het aantal groter is dan 1. Als dat zo is moet er nog een \"s\" geprint worden zodat de zin klopt. Test nog een keer met verschillende getallen."
   ]
  },
  {
   "cell_type": "code",
   "execution_count": 3,
   "metadata": {},
   "outputs": [
    {
     "name": "stdout",
     "output_type": "stream",
     "text": [
      "ik zie 4 vogel\n"
     ]
    }
   ],
   "source": [
    "#opgave 2.1\n",
    "\n",
    "aantal = input()\n",
    "print(f\"ik zie {aantal} vogel\")"
   ]
  },
  {
   "cell_type": "markdown",
   "metadata": {},
   "source": [
    "### Opdracht 2.2\n",
    "Wie is er jarig? Ik, jij of hij?\n",
    "\n",
    "Het volgende programma is nog niet af. De uitvoer is afhankelijk van wat je invult bij persoon. Bijvoorbeeld: ik ben jarig op 16 april, jij bent jarig op 16 april, hij is jarig op 16 april. Het programma moet kijken wie de persoon is en daar het werkwoord op aanpassen."
   ]
  },
  {
   "cell_type": "code",
   "execution_count": null,
   "metadata": {},
   "outputs": [],
   "source": [
    "print(\"type ik, jij of hij\\n\")\n",
    "persoon = input(\"type ik, jij of hij\")\n",
    "verjaardag = \"16 april\"\n",
    "\n",
    "print (persoon)\n",
    "\n",
    "if (…):\n",
    "    print (…)\n",
    "else:\n",
    "    if (…):\n",
    "        print (…)\n",
    "    else:\n",
    "        print (…)\n",
    "print(f\" jarig op {verjaardag}\")"
   ]
  },
  {
   "cell_type": "markdown",
   "metadata": {},
   "source": [
    "### Opdracht 2.2a\n",
    "Vul de ontbrekende code in op de plaatsen van de puntjes. Kies uit:\n",
    "\n",
    "```\n",
    "\" is\"\n",
    "\" ben\"\n",
    "\" bent\"\n",
    "persoon == \"ik\"\n",
    "persoon == \"jij\"\n",
    "```"
   ]
  },
  {
   "cell_type": "code",
   "execution_count": 5,
   "metadata": {},
   "outputs": [
    {
     "name": "stdout",
     "output_type": "stream",
     "text": [
      "type ik, jij of hij\n",
      "hij is jarig op 16 april\n"
     ]
    }
   ],
   "source": [
    "# opdracht 2.2a\n",
    "\n"
   ]
  },
  {
   "cell_type": "markdown",
   "metadata": {},
   "source": [
    "### Opdracht 2.2b\n",
    "Is er maar één mogelijkheid om dit resultaat te krijgen? Je kan de condities die je in de if-statements hebt gezet verwisselen. Wat denk je dat er dan gebeurt? Probeer het uit en test met verschillende waarden het resultaat. Krijg je te zien wat je verwacht had? Pas nu het programma verder aan zodat de uitvoer weer klopt."
   ]
  },
  {
   "cell_type": "code",
   "execution_count": null,
   "metadata": {},
   "outputs": [],
   "source": [
    "# opdracht 2.2b\n"
   ]
  },
  {
   "cell_type": "markdown",
   "metadata": {},
   "source": [
    "### Opdracht 2.2c\n",
    "\n",
    "Kan je nog een andere oplossing verzinnen? Probeer of het lukt om zonder else-statement hetzelfde resultaat te krijgen. Je hebt dan drie if-statements nodig die elk één van de mogelijkheden voor persoon controleren."
   ]
  },
  {
   "cell_type": "code",
   "execution_count": null,
   "metadata": {},
   "outputs": [],
   "source": [
    "# opdracht 2.2c\n"
   ]
  },
  {
   "cell_type": "markdown",
   "metadata": {},
   "source": [
    "### Opdracht 2.3\n",
    "Volgens onderstaand programma mag iedereen stemmen. Voeg een if-statement toe waarin gecontroleerd of de leeftijd kleiner is dan 18. Dan moet er \"nog niet \" geprint worden tussen de twee print-statements die er al staan. Test je programma met verschillende leeftijden. \n",
    "\n",
    "Hint: om te controleren of het ene getal groter is dan het andere gebruik je het > teken: a > b is waar(True) als a groter is dan b, anders is het niet waar (False)."
   ]
  },
  {
   "cell_type": "code",
   "execution_count": 6,
   "metadata": {},
   "outputs": [
    {
     "name": "stdout",
     "output_type": "stream",
     "text": [
      "Hoe oud ben je?\n",
      "Je bent 12, dus je mag \n",
      "stemmen\n"
     ]
    }
   ],
   "source": [
    "# opdracht 2.3\n",
    "\n",
    "print(\"Hoe oud ben je?\")\n",
    "leeftijd = int(input())\n",
    "print (f\"Je bent {leeftijd}, dus je mag \")\n",
    "\n",
    "print (\"stemmen\")"
   ]
  },
  {
   "cell_type": "markdown",
   "metadata": {},
   "source": [
    "### Opdracht 2.4\n",
    "In onderstaand programma ontbreekt de conditie in het if-statement (het gedeelte tussen de haakjes waar nu … staat). Als het warmer is dan 25 (° C) gaan we naar het strand, anders blijven we thuis. Maak het programma af door de conditie toe te voegen. Kijk of het werkt zoals je dacht door met verschillende temperaturen te testen."
   ]
  },
  {
   "cell_type": "code",
   "execution_count": null,
   "metadata": {},
   "outputs": [],
   "source": [
    "# opdracht 2.4\n",
    "\n",
    "temperatuur = int(input(\"Hoe warm wordt het?\"))\n",
    "if (…):\n",
    "    print (\"We gaan naar het strand.\")\n",
    "else:\n",
    "    print (\"We blijven thuis.\")"
   ]
  },
  {
   "cell_type": "markdown",
   "metadata": {},
   "source": [
    "### Opdracht 2.5\n",
    "Anna en Bob"
   ]
  },
  {
   "cell_type": "markdown",
   "metadata": {},
   "source": [
    "### Opdracht 2.5a\n",
    "Schrijf een programma met twee variabelen anna en bob. Als waarde van de variabele geef je een leeftijd. Gebruik hiervoor input() zoals in de vorige opgaven. Voeg nu een if-statement toe waarin gecontroleerd wordt of Anna ouder is dan Bob. Als dat zo is zie je het volgende resultaat, anders zie je niets. Test het programma met verschillende leeftijden.\n",
    "\n",
    "Anna is ouder dan Bob\n",
    "\n"
   ]
  },
  {
   "cell_type": "code",
   "execution_count": null,
   "metadata": {},
   "outputs": [],
   "source": [
    "# opdracht 2.5a\n",
    "\n"
   ]
  },
  {
   "cell_type": "markdown",
   "metadata": {},
   "source": [
    "### Opdracht 2.5b\n",
    "Voeg nu een else toe zodat je ook het volgende resultaat kan krijgen:\n",
    "\n",
    "Bob is ouder dan Anna"
   ]
  },
  {
   "cell_type": "code",
   "execution_count": null,
   "metadata": {},
   "outputs": [],
   "source": [
    "# opdracht 2.5b\n",
    "\n"
   ]
  },
  {
   "cell_type": "markdown",
   "metadata": {},
   "source": [
    "### Opdracht 2.5c\n",
    "Het kan natuurlijk zo zijn dat Anna en Bob even oud zijn. Het programma zegt dan ten onrechte dat Bob de oudste is (test dit als je dat nog niet had gedaan). Je kan dit oplossen door binnen de else die je hebt geschreven opnieuw een if toe te voegen waarin je controleert of Bob ouder is dan Anna. Als dat niet zo is weet je dat ze even oud zijn. Je ziet deze structuur in onderstaande code. Vul zelf de ontbrekende stukjes in zodat het werkt.\n",
    "\n",
    "```python\n",
    "if (…):\n",
    "    print (\"…\")\n",
    "else:\n",
    "    if (…):\n",
    "        print (\"…\")\n",
    "    else:\n",
    "        print (\"…\")\n",
    "```\n",
    "\n",
    "Hint: in een if-statement controleer je of iets kleiner is met het < teken."
   ]
  },
  {
   "cell_type": "code",
   "execution_count": null,
   "metadata": {},
   "outputs": [],
   "source": [
    "# opdracht 2.5c\n",
    "\n"
   ]
  },
  {
   "cell_type": "markdown",
   "metadata": {},
   "source": [
    "### Opdracht 2.5d\n",
    "Er is nooit maar één oplossing voor een computerprogramma. Je kan het probleem hierboven bijvoorbeeld ook oplossen zonder else-statements te gebruiken. Je hebt dan 3 verschillende if-statements nodig. Herschrijf je programma op die manier. Test of het resultaat hetzelfde blijft.\n",
    "\n",
    "Hint: je moet nu ook een if hebben waarin je controleert of de leeftijden gelijk zijn. Hiervoor gebruik je het == teken (LET OP: dit zijn 2 =-tekens!)."
   ]
  },
  {
   "cell_type": "code",
   "execution_count": null,
   "metadata": {},
   "outputs": [],
   "source": [
    "# opdracht 2.5d\n"
   ]
  },
  {
   "cell_type": "markdown",
   "metadata": {},
   "source": [
    "### Opdracht 2.6\n",
    "Sjors, Mathilde en Sharon eten elk een paar boterhammen. Maak een programma met voor ieder het aantal boterhammen in een variabele en een variabele voor het gemiddelde. Het gemiddelde moet je berekenen zodat het vanzelf mee verandert wanneer je de aantallen aanpast. Print nu eerst een regel voor het gemiddelde. Vervolgens print je voor elke persoon een regel die afhankelijk is van de hoeveelheid gegeten boterhammen ten opzichte van het gemiddelde. Het resultaat ziet er bijvoorbeeld zo uit (test door de aantallen boterhammen te veranderen);\n",
    "\n",
    "Gemiddeld worden er 3 boterhammen gegeten.\n",
    "Sjors eet er 2, dat is best weinig.\n",
    "Mathilde eet er 3, dat is gemiddeld.\n",
    "Sharon eet er 4, dat zijn er behoorlijk veel.\n",
    "\n",
    "Hint: gemiddelde is (aantal van Sjors + aantal van Mathilde + aantal van Sharon)/3."
   ]
  },
  {
   "cell_type": "code",
   "execution_count": null,
   "metadata": {},
   "outputs": [],
   "source": [
    "# opdracht 2.6\n"
   ]
  },
  {
   "cell_type": "markdown",
   "metadata": {},
   "source": [
    "Extra uitdaging? Als het totaal aantal boterhammen 0 is krijg je een foutmelding, want je mag niet delen door 0. Controleer dat maar eens. Zou je dit met een if-statement kunnen ondervangen?"
   ]
  },
  {
   "cell_type": "code",
   "execution_count": null,
   "metadata": {},
   "outputs": [],
   "source": [
    "# opdracht 2.6 extra\n"
   ]
  },
  {
   "cell_type": "markdown",
   "metadata": {},
   "source": [
    "### Opdracht 2.7\n",
    "Olifanten"
   ]
  },
  {
   "cell_type": "markdown",
   "metadata": {},
   "source": [
    "### Opdracht 2.7a\n",
    "Wat denk je dat het resultaat is van onderstaande code? Bestudeer het goed en voer het daarna pas uit. Als je iets anders ziet dan verwacht kijk dan opnieuw naar de code om het te begrijpen."
   ]
  },
  {
   "cell_type": "code",
   "execution_count": null,
   "metadata": {},
   "outputs": [],
   "source": [
    "# opdracht 2.7a\n",
    "\n",
    "stelling1 = \"Olifant schrijf je met een O\"\n",
    "waarheid1 = True\n",
    "print (f\"Stelling 1 ({stelling1}) is \")\n",
    "if waarheid1:\n",
    "    print (\" WAAR.\")\n",
    "else:\n",
    "    print (\" NIET WAAR.\")"
   ]
  },
  {
   "cell_type": "markdown",
   "metadata": {},
   "source": [
    "### Opdracht 2.7b\n",
    "Voeg nu op dezelfde manier een stelling2 toe die niet waar is. Zorg dat de twee stellingen onder elkaar laten zien of ze waar zijn of niet."
   ]
  },
  {
   "cell_type": "code",
   "execution_count": null,
   "metadata": {},
   "outputs": [],
   "source": [
    "# opdracht 2.7b\n"
   ]
  },
  {
   "cell_type": "markdown",
   "metadata": {},
   "source": [
    "### Opdracht 2.8\n",
    "Hoe ga je vandaag naar de sportclub? Het liefst ga je met de fiets, je bent nou eenmaal een sportief type, behalve als het regent. Dan kan je meestal wel met iemand meerijden die een auto heeft. Anders moet je met de bus. Maak een programma met 2 variabelen voor regen en meerijden die True of False kunnen zijn en zorg dat je programma de juiste uitvoer geeft, bijvoorbeeld wanneer het regent en je kan meerijden:\n",
    "\n",
    "Vandaag rijd ik met iemand mee."
   ]
  },
  {
   "cell_type": "code",
   "execution_count": null,
   "metadata": {},
   "outputs": [],
   "source": [
    "# opdracht 2.8\n",
    "\n"
   ]
  },
  {
   "cell_type": "markdown",
   "metadata": {},
   "source": [
    "### Opdracht 2.9\n",
    "Schrijf een programma dat de prijs van een treinkaartje berekent met deze regels: \n",
    "\n",
    "De normale prijs is afhankelijk van de afstand: € 0.1 per kilometer.\n",
    "Met een studentenkaart Weekabonnement:\n",
    "    Gratis op weekdagen\n",
    "    40% korting in het weekend en op feestdagen\n",
    "Met een studentenkaart Weekendabonnement:\n",
    "    Gratis in het weekend en op feestdagen\n",
    "    40 % korting op weekdagen\n",
    "Teken eerst een boomstructuur. Bedenk dan welke variabelen je gaat gebruiken. Schrijf de code waarin de prijs wordt bepaald en zorg voor een overzichtelijke uitvoer zodat je het resultaat goed kan beoordelen. Test je code met alle mogelijke combinaties van de variabelen om te kijken of je het helemaal goed hebt.\n",
    "\n",
    "Hint: Let op dat we aangeven dat het 0.1 per km is. We gebruiken de Amerikaanse getalnotatie. Het is dus 0.1 ipv 0,1"
   ]
  },
  {
   "cell_type": "code",
   "execution_count": null,
   "metadata": {},
   "outputs": [],
   "source": [
    "# opdracht 2.9\n",
    "\n"
   ]
  },
  {
   "cell_type": "markdown",
   "metadata": {},
   "source": [
    "### Opdracht 2.10\n",
    "Het is feest als er iemand jarig is. Maar als je al drie weken geen feest hebt gehad dan bouw je zelf een feestje met je vrienden, behalve in de zomervakantie, dan feest je elke week.\n",
    "\n",
    "Bekijk onderstaande code waarin dit is uitgewerkt. Probeer verschillende waarden uit. "
   ]
  },
  {
   "cell_type": "code",
   "execution_count": 9,
   "metadata": {},
   "outputs": [
    {
     "name": "stdout",
     "output_type": "stream",
     "text": [
      "deze week is het feest\n"
     ]
    }
   ],
   "source": [
    "# opgave 2.10\n",
    "\n",
    "iemandJarig = False\n",
    "aantalWekenZonderFeest = 3\n",
    "zomervakantie = False\n",
    "\n",
    "if iemandJarig:\n",
    "    print(\"deze week is het feest\")\n",
    "else:\n",
    "    if zomervakantie:\n",
    "        print(\"deze week is het feest\")\n",
    "    else:\n",
    "        if aantalWekenZonderFeest > 2:\n",
    "            print(\"deze week is het feest\")\n",
    "        else:\n",
    "            print(\"deze week is er geen feest\")"
   ]
  },
  {
   "cell_type": "markdown",
   "metadata": {},
   "source": [
    "Dit kan je korter schrijven door één boolean expressie te maken. Vul onderstaande code aan op de plaats van de puntjes met and of or. \n",
    "\n",
    "Hint: Er zijn 3 verschillende voorwaarden in de code die bepalen of het feest is. Moeten die voorwaarden allemaal tegelijk gelden voor een feestje of is het voldoende als er één van waar is? Hoort daarbij dan een and of een or? Als je het moeilijk vindt om dat in één keer te zien kan je het natuurlijk uitproberen door de variabelen verschillende waarden te geven in het eerste stuk code"
   ]
  },
  {
   "cell_type": "code",
   "execution_count": null,
   "metadata": {},
   "outputs": [],
   "source": [
    "# opgave 2.10 beter\n",
    "\n",
    "iemandJarig = False\n",
    "aantalWekenZonderFeest = 3\n",
    "zomervakantie = False\n",
    "\n",
    "if iemandJarig (…) zomervakantie (…) aantalWekenZonderFeest > 2:\n",
    "    print(\"deze week is het feest\")\n",
    "else:\n",
    "    print(\"deze week is er geen feest\")"
   ]
  },
  {
   "cell_type": "markdown",
   "metadata": {},
   "source": [
    "### Opdracht 2.11\n",
    "Als ik geen koffie heb gehad neem ik altijd een kopje koffie, of de koffie nou vers is of oud. Als de koffie klaar staat, dan is de koffie oud. Staat de koffie niet klaar, dan zet ik verse koffie. Na het eerste kopje neem ik alléén koffie als het vers is. Maximaal neem ik 5 kopjes per dag.\n",
    "\n",
    "De onderstaande code bevat een fout. Ik ga verse koffie zetten, wat ik vervolgens wil opdrinken, maar de output is: \"Ik neem geen koffie\". Doorloop de code en vind de fout."
   ]
  },
  {
   "cell_type": "code",
   "execution_count": 12,
   "metadata": {},
   "outputs": [
    {
     "name": "stdout",
     "output_type": "stream",
     "text": [
      "Koffie aan het zetten...\n",
      "Ik neem geen koffie\n"
     ]
    }
   ],
   "source": [
    "#opgave 2.11\n",
    "\n",
    "koffieStaatKlaar = False\n",
    "aantalKoffie = 3\n",
    "koffieIsVers = False\n",
    "\n",
    "if koffieStaatKlaar == False :\n",
    "    print(\"Koffie aan het zetten...\")\n",
    "else:\n",
    "    koffieIsVers = False\n",
    "\n",
    "if aantalKoffie == 0 :\n",
    "    print(\"Ik neem koffie\")\n",
    "else:\n",
    "    if aantalKoffie >= 5 :\n",
    "        print(\"Ik neem geen koffie\")\n",
    "    else:\n",
    "        if koffieIsVers == True :\n",
    "            print(\"Ik neem koffie\")\n",
    "        else:\n",
    "            print(\"Ik neem geen koffie\")"
   ]
  },
  {
   "cell_type": "markdown",
   "metadata": {},
   "source": [
    "Het tweede deel van de bovenstaande code kan je ook korter schrijven. Maar ook in deze code zit een bug (voor het gemak hebben we het koffiezetten even achterwege gelaten). Ik heb 1 kop koffie gehad en de koffie is vers, maar toch is de output: “Ik neem geen koffie”. Doorloop de code opnieuw en vind de fout."
   ]
  },
  {
   "cell_type": "code",
   "execution_count": 13,
   "metadata": {},
   "outputs": [
    {
     "name": "stdout",
     "output_type": "stream",
     "text": [
      "Ik neem geen koffie\n"
     ]
    }
   ],
   "source": [
    "#opgave 2.11 beter\n",
    "\n",
    "aantalKoffie = 1\n",
    "koffieIsVers = True\n",
    "\n",
    "if (aantalKoffie == 0 or (aantalKoffie >= 5 and koffieIsVers)) :\n",
    "    print(\"Ik neem koffie\")\n",
    "else:\n",
    "    print(\"Ik neem geen koffie\")"
   ]
  },
  {
   "cell_type": "markdown",
   "metadata": {},
   "source": [
    "### Opdracht 2.12\n",
    "Als ik slaap, dan neem ik de telefoon niet op.  Als het ochtend is, neem ik alleen de telefoon op als mijn moeder belt. In alle andere gevallen neem ik de telefoon wel op. \n",
    "\n",
    "Schrijf een programma wat bovenstaande situatie weergeeft. Begin de code met de volgende variabelen:\n",
    "```\n",
    "hetIsOchtend = True\n",
    "mamaBelt = True\n",
    "ikSlaap = True\n",
    "```\n",
    "\n",
    "Test het programma met steeds andere waarden voor deze variabelen. Voor de volledigheid moet je dan dus 8 situaties testen. Ga maar na: (true, true, true) of (true, true, false) of (true, false, true) of ... "
   ]
  },
  {
   "cell_type": "code",
   "execution_count": null,
   "metadata": {},
   "outputs": [],
   "source": [
    "#opgave 2.12"
   ]
  },
  {
   "cell_type": "markdown",
   "metadata": {},
   "source": [
    "### Opdracht 2.13\n",
    "De opgave over de treinreis(opgave 9) die we eerder gemaakt hebben kan ook met behulp van de and en or. Maak de opgave opnieuw, maar maak nu gebruik van de and en/of or.\n",
    "\n",
    "Teken de nieuwe boomstructuur en test je code met alle mogelijke combinaties van de variabelen om te kijken of je het helemaal goed hebt. \n"
   ]
  },
  {
   "cell_type": "code",
   "execution_count": null,
   "metadata": {},
   "outputs": [],
   "source": [
    "#opgave 2.13\n"
   ]
  },
  {
   "cell_type": "markdown",
   "metadata": {},
   "source": [
    "### Opdracht 2.14\n",
    "\"We bekijken het humeur van Mark Rutte. Als het aantal miljard euro's dat bezuinigd wordt (variabele aantal) minder is dan 3, print je \"Mark is boos\". Als het aantal miljard tussen 3 en 5 ligt print je \"Mark is humeurig\". Bij een nog hoger bedrag hangt het af van het gebied waarop bezuinigd wordt (variabele gebied). Als bezuinigd wordt op onderwijs is hij ook boos, als bezuinigd wordt op de zorg is hij verdrietig; in alle andere gevallen is Mark blij.\"\n",
    "\n",
    "Laat met de volgende testwaardes zien dat de code werkt:\n",
    "\n",
    "\n",
    "Test | Verwacht resultaat\n",
    "---|---\n",
    "aantal = 2 en gebied =  \"\" | Mark is boos\n",
    "aantal = 4 en gebied = \"\"  | Mark is humeurig\n",
    "aantal = 6 en gebied = \"onderwijs\" | Mark is boos\n",
    "aantal = 8 en gebied = \"zorg\" | Mark is verdrietig\n",
    "aantal = 8 en gebied = \"defensie\" | Mark is blij\n",
    "aantal = 9 en gebied = \"\" | Mark is blij"
   ]
  },
  {
   "cell_type": "code",
   "execution_count": null,
   "metadata": {},
   "outputs": [],
   "source": [
    "#opgave 2.14\n",
    "\n"
   ]
  }
 ],
 "metadata": {
  "kernelspec": {
   "display_name": "base",
   "language": "python",
   "name": "python3"
  },
  "language_info": {
   "codemirror_mode": {
    "name": "ipython",
    "version": 3
   },
   "file_extension": ".py",
   "mimetype": "text/x-python",
   "name": "python",
   "nbconvert_exporter": "python",
   "pygments_lexer": "ipython3",
   "version": "3.11.9"
  }
 },
 "nbformat": 4,
 "nbformat_minor": 2
}
