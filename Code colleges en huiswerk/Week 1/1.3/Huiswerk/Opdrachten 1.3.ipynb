{
 "cells": [
  {
   "cell_type": "markdown",
   "metadata": {},
   "source": [
    "# Opdrachten les 1.3\n",
    "Maak de volgende opdrachten voor het volgende werkcollege. Tijdens het werkcolleges kunnen we deze dan bespreken en hierop voort bouwen. Over het algemeen worden de opdrachten steeds moeilijker. Geef niet te snel op en blijf proberen!"
   ]
  },
  {
   "cell_type": "markdown",
   "metadata": {},
   "source": [
    "### Opdracht 3.1\n",
    "Maak een programma dat de volgende figuren op het scherm zet. Maak de opgave zowel met een FOR als met een WHILE."
   ]
  },
  {
   "cell_type": "markdown",
   "metadata": {},
   "source": [
    "### Opdracht 3.1a\n",
    "```********\n",
    "********\n",
    "********\n",
    "********\n",
    "********\n",
    "********\n",
    "********\n",
    "********"
   ]
  },
  {
   "cell_type": "code",
   "execution_count": null,
   "metadata": {},
   "outputs": [],
   "source": [
    "#opgave 3.1a\n",
    "\n",
    "\n"
   ]
  },
  {
   "cell_type": "markdown",
   "metadata": {},
   "source": [
    "### Opdracht 3.1b\n",
    "Teken een vierkant van 20 bij 20 sterretjes."
   ]
  },
  {
   "cell_type": "code",
   "execution_count": null,
   "metadata": {},
   "outputs": [],
   "source": [
    "# b\n"
   ]
  },
  {
   "cell_type": "markdown",
   "metadata": {},
   "source": [
    "### Opdracht 3.1c\n",
    "Teken een rechthoek met 20 rijen van 8 sterretjes."
   ]
  },
  {
   "cell_type": "code",
   "execution_count": null,
   "metadata": {},
   "outputs": [],
   "source": [
    "# c\n",
    "\n",
    "\n"
   ]
  },
  {
   "cell_type": "markdown",
   "metadata": {},
   "source": [
    "### Opdracht 3.1d\n",
    "\n",
    "Teken een driehoek van 1 naar 8 sterretjes.\n",
    "```\n",
    "*\n",
    "**\n",
    "***\n",
    "****\n",
    "*****\n",
    "******\n",
    "*******\n",
    "********\n",
    "*********"
   ]
  },
  {
   "cell_type": "code",
   "execution_count": null,
   "metadata": {},
   "outputs": [],
   "source": [
    "# d\n",
    "\n"
   ]
  },
  {
   "cell_type": "markdown",
   "metadata": {},
   "source": [
    "### Opdracht 3.1e\n",
    "\n",
    "Teken een driehoek van 1 naar 20 sterretjes."
   ]
  },
  {
   "cell_type": "code",
   "execution_count": null,
   "metadata": {},
   "outputs": [],
   "source": [
    "# e\n"
   ]
  },
  {
   "cell_type": "markdown",
   "metadata": {},
   "source": [
    "### Opdracht 3.1f\n",
    "\n",
    "Teken een driehoek van 8 naar 1 sterretjes."
   ]
  },
  {
   "cell_type": "code",
   "execution_count": null,
   "metadata": {},
   "outputs": [],
   "source": [
    "# f\n",
    "\n",
    "\n"
   ]
  },
  {
   "cell_type": "markdown",
   "metadata": {},
   "source": [
    "### Opdracht 3.1g\n",
    "\n",
    "Teken een driehoek van 20 naar 1 sterretjes."
   ]
  },
  {
   "cell_type": "code",
   "execution_count": null,
   "metadata": {},
   "outputs": [],
   "source": [
    "# g\n",
    "\n",
    "\n"
   ]
  },
  {
   "cell_type": "markdown",
   "metadata": {},
   "source": [
    "### Opdracht 3.1h\n",
    "\n",
    "Teken de volgende figuur. De breedte wordt aangegeven door een variabele $breedte. In dit getoonde geval is deze 5. Als je $breedte aanpast moet de figuur ook aangepast worden.\n",
    "\n",
    "```\n",
    "*\n",
    "**\n",
    "***\n",
    "****\n",
    "*****\n",
    "****\n",
    "***\n",
    "**\n",
    "*"
   ]
  },
  {
   "cell_type": "code",
   "execution_count": null,
   "metadata": {},
   "outputs": [],
   "source": [
    "# h\n",
    "\n"
   ]
  },
  {
   "cell_type": "markdown",
   "metadata": {},
   "source": [
    "### Opdracht 3.1i\n",
    "\n",
    "Zet de getallen van 1 tot 100 op het scherm, steeds gescheiden door een spatie."
   ]
  },
  {
   "cell_type": "code",
   "execution_count": null,
   "metadata": {},
   "outputs": [],
   "source": [
    "# i\n",
    "\n"
   ]
  },
  {
   "cell_type": "markdown",
   "metadata": {},
   "source": [
    "### Opdracht 3.1j\n",
    "\n",
    "Zet de getallen van 100 tot 1 op het scherm, steeds gescheiden door een spatie."
   ]
  },
  {
   "cell_type": "code",
   "execution_count": null,
   "metadata": {},
   "outputs": [],
   "source": [
    "# j\n"
   ]
  },
  {
   "cell_type": "markdown",
   "metadata": {},
   "source": [
    "### Opdracht 3.1k\n",
    "\n",
    "Zet de getallen van 1 tot 100 op het scherm behalve de getallen 50 en 54, steeds gescheiden door een spatie."
   ]
  },
  {
   "cell_type": "code",
   "execution_count": null,
   "metadata": {},
   "outputs": [],
   "source": [
    "# k\n",
    "\n"
   ]
  },
  {
   "cell_type": "markdown",
   "metadata": {},
   "source": [
    "### Opdracht 3.1l\n",
    "\n",
    "Zet alle even getallen tussen 1 en 100 op het scherm. (Lang geleden? De even getallen zijn 2,4,6,8, ...)\n",
    "\n",
    "Hint: Je kunt het doen door de for aan te passen of door te controleren per getal of het even is. Om te bepalen of een getal even is kun je gebruik maken van het moduloteken (%). Dat is de rest na deling. Dus 7%2 is 1 en 8%2 is 0."
   ]
  },
  {
   "cell_type": "code",
   "execution_count": null,
   "metadata": {},
   "outputs": [],
   "source": [
    "# l\n",
    "\n",
    "\n",
    "\n"
   ]
  },
  {
   "cell_type": "markdown",
   "metadata": {},
   "source": [
    "### Opdracht 3.1m\n",
    "\n",
    "Bepaal de som van alle getallen tussen 1 en 100."
   ]
  },
  {
   "cell_type": "code",
   "execution_count": null,
   "metadata": {},
   "outputs": [],
   "source": [
    "# m\n"
   ]
  },
  {
   "cell_type": "markdown",
   "metadata": {},
   "source": [
    "### Opdracht 3.1n\n",
    "\n",
    "Bepaal het product (vermenigvuldiging) van alle getallen tussen 1 en 100."
   ]
  },
  {
   "cell_type": "code",
   "execution_count": null,
   "metadata": {},
   "outputs": [],
   "source": [
    "# n\n",
    "\n"
   ]
  },
  {
   "cell_type": "markdown",
   "metadata": {},
   "source": [
    "### Opdracht 3.1o\n",
    "\n",
    "Zet 20 random getallen onder de 100 op het scherm. Een random getal maak je met de functie random.randint(x,y). Zoek de werking van deze functie op, op internet.\n",
    "https://docs.python.org/3/library/random.html"
   ]
  },
  {
   "cell_type": "markdown",
   "metadata": {},
   "source": []
  },
  {
   "cell_type": "markdown",
   "metadata": {},
   "source": []
  },
  {
   "cell_type": "code",
   "execution_count": 2,
   "metadata": {},
   "outputs": [
    {
     "name": "stdout",
     "output_type": "stream",
     "text": [
      "26 2 94 3 79 62 52 77 98 28 35 84 76 97 89 4 87 30 16 67 \n",
      "\n"
     ]
    }
   ],
   "source": [
    "# o\n"
   ]
  },
  {
   "cell_type": "markdown",
   "metadata": {},
   "source": [
    "### Opdracht 3.1p\n",
    "\n",
    "Zet 20 random getallen onder de 100 op het scherm. Bepaal de som van de getoonde 20 random getallen."
   ]
  },
  {
   "cell_type": "code",
   "execution_count": null,
   "metadata": {},
   "outputs": [],
   "source": [
    "# p\n"
   ]
  },
  {
   "cell_type": "markdown",
   "metadata": {},
   "source": [
    "### Opdracht 3.1q\n",
    "\n",
    "Zet 20 random getallen onder de 100 op het scherm. Bepaal het maximum van de getoonde random getallen."
   ]
  },
  {
   "cell_type": "code",
   "execution_count": null,
   "metadata": {},
   "outputs": [],
   "source": [
    "# q\n",
    "\n"
   ]
  },
  {
   "cell_type": "markdown",
   "metadata": {},
   "source": [
    "### Opdracht 3.1r\n",
    "\n",
    "Teken een vierkant bestaande uit random getallen, bijv:\n",
    "\n",
    "```\n",
    "12 24 6 35\n",
    "1 14 7 12\n",
    "23 29 78 52\n",
    "89 4 66 23"
   ]
  },
  {
   "cell_type": "code",
   "execution_count": null,
   "metadata": {},
   "outputs": [],
   "source": [
    "# r\n",
    "\n",
    "\n",
    "\n"
   ]
  },
  {
   "cell_type": "markdown",
   "metadata": {},
   "source": [
    "### Opdracht 3.2\n",
    "Maak een programma (spelletje) dat het volgende doet: \n",
    "\n",
    "Er wordt met een dobbelsteen gegooid (een willekeurig getal x tussen de 1 en de 6).\n",
    "\n",
    "Zolang dat getal x even is (bv 4) worden er x kaarten getrokken (een kaart is een weer een willekeurig getal, maar nu tussen de 1 en de 52). Alle punten van de kaarten worden constant bij elkaar opgeteld.\n",
    "\n",
    "Het doel is om zoveel mogelijk punten te winnen.\n",
    "\n",
    "Een mogelijke uitvoer van het programma kan er als volgt uitzien:\n",
    "\n",
    "```\n",
    "Het getrokken getal is: 6\n",
    "De waarde van de kaart is: 17\n",
    "De waarde van de kaart is: 8\n",
    "De waarde van de kaart is: 29\n",
    "De waarde van de kaart is: 29\n",
    "De waarde van de kaart is: 31\n",
    "De waarde van de kaart is: 16\n",
    "Het getrokken getal is: 2\n",
    "De waarde van de kaart is: 42\n",
    "De waarde van de kaart is: 38\n",
    "Het getrokken getal is: 4\n",
    "De waarde van de kaart is: 30\n",
    "De waarde van de kaart is: 4\n",
    "De waarde van de kaart is: 12\n",
    "De waarde van de kaart is: 8\n",
    "Het getrokken getal is: 5\n",
    "Er zijn totaal 264 punten gescoord.\n",
    "```\n",
    "\n",
    "Een andere mogelijke uitvoer kan zijn:\n",
    "```\n",
    "Het getrokken getal is: 3\n",
    "Er zijn totaal 0 punten gescoord."
   ]
  },
  {
   "cell_type": "code",
   "execution_count": null,
   "metadata": {},
   "outputs": [],
   "source": [
    "#opgave 3.2\n",
    "\n",
    "\n",
    "\n"
   ]
  },
  {
   "cell_type": "markdown",
   "metadata": {},
   "source": [
    "### Opdracht 3.3\n",
    "Maak een programma dat bepaalt na hoeveel jaar mijn vermogen is verdubbeld bij een bepaald rentepercentage.\n",
    "\n",
    "Het startvermogen en het rentepercentage mag je hard in de code zetten d.m.v. variabelen, óf aan de gebruiker vragen.\n",
    "\n",
    "De uitvoer kan er zo uitzien:\n",
    "```\n",
    "Na hoeveel jaar is mijn vermogen verdubbeld bij een bepaalde rente?\n",
    "\n",
    "Het startvermogen is: 1000\n",
    "Het rentepercentage is: 4\n",
    "\n",
    "Het eindvermogen is: 2025.8165153785\n",
    "Het aantal jaren is: 18"
   ]
  },
  {
   "cell_type": "code",
   "execution_count": null,
   "metadata": {},
   "outputs": [],
   "source": [
    "#opgave 3.3\n",
    "\n"
   ]
  },
  {
   "cell_type": "markdown",
   "metadata": {},
   "source": [
    "### Opdracht 3.4\n",
    "Je bent bezig met het uitdenken van een spelletje, waarbij je wilt bijhouden op welk ervaringsniveau je speelfiguurtje op elk moment is. Elke 1000 punten resulteert in een hoger ervaringsniveau.\n",
    "\n",
    "Het spel kent twee typen uitdagingen. Het oplossen van een puzzel levert 50 punten op en het uit de weg ruimen van een monster 100 punten. Je wilt de speler graag altijd eerst drie puzzels laten oplossen, waarna er een monster op het pad komt als vierde uitdaging. Deze cyclus herhaalt zich telkens weer.\n",
    "\n",
    "Je begint klein en stelt onderstaande code op om überhaupt een niveau hoger te komen. Je verwacht dat je na 16 uitdagingen precies op 1000 ervaringspunten terechtkomt en een print in de console krijgt. Het spel schotelt echter oneindig veel uitdagingen voor, zonder ooit het ervaringsniveau te verhogen."
   ]
  },
  {
   "cell_type": "code",
   "execution_count": null,
   "metadata": {},
   "outputs": [],
   "source": [
    "#opgave 3.4\n",
    "\n"
   ]
  },
  {
   "cell_type": "markdown",
   "metadata": {},
   "source": [
    "Probeer nu op de juiste momenten zelf de variabelen te printen: dit is een mogelijke manier om uit te vogelen waar het probleem in je code zit.\n",
    "\n",
    "Verbeter de code. Controleer na elke aanpassing met de printjes of je uiteindelijk na het juiste aantal uitdagingen een hoger niveau verkrijgt."
   ]
  }
 ],
 "metadata": {
  "kernelspec": {
   "display_name": "base",
   "language": "python",
   "name": "python3"
  },
  "language_info": {
   "codemirror_mode": {
    "name": "ipython",
    "version": 3
   },
   "file_extension": ".py",
   "mimetype": "text/x-python",
   "name": "python",
   "nbconvert_exporter": "python",
   "pygments_lexer": "ipython3",
   "version": "3.11.9"
  }
 },
 "nbformat": 4,
 "nbformat_minor": 2
}
