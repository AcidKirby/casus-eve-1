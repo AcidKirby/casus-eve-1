{
 "cells": [
  {
   "cell_type": "code",
   "execution_count": 1,
   "metadata": {},
   "outputs": [
    {
     "name": "stdout",
     "output_type": "stream",
     "text": [
      "Het is koud... brr..\n",
      "Je doet de studie: HBO-ICT, en je volgt: Python\n"
     ]
    }
   ],
   "source": [
    "# syntax\n",
    "temperatuur = 15\n",
    "onderwerp = \"Python\"\n",
    "studie = \"HBO-ICT\"\n",
    "\n",
    "if temperatuur > 20:\n",
    "    print(\"Het is lekker weer!\")\n",
    "else:\n",
    "    print(\"Het is koud... brr..\")\n",
    "\n",
    "print(\"Je doet de studie: \" + studie + \", en je volgt: \" + onderwerp)"
   ]
  },
  {
   "cell_type": "code",
   "execution_count": 8,
   "metadata": {},
   "outputs": [],
   "source": [
    "# variabelen en datatypes\n",
    "basis_uurloon = 15 # int\n",
    "onregelmatigheidstoeslag = 1.22 # float\n",
    "bruto_uurloon = basis_uurloon * onregelmatigheidstoeslag # float\n",
    "\n",
    "onderwerp = \"Python\" # string\n",
    "studie = \"HBO-ICT\" # string\n",
    "\n",
    "laptopAan = True # boolean"
   ]
  },
  {
   "cell_type": "code",
   "execution_count": 9,
   "metadata": {},
   "outputs": [
    {
     "name": "stdout",
     "output_type": "stream",
     "text": [
      "18.3\n"
     ]
    }
   ],
   "source": [
    "# print\n",
    "basis_uurloon = 15\n",
    "onregelmatigheidstoeslag = 1.22\n",
    "bruto_uurloon = basis_uurloon * onregelmatigheidstoeslag\n",
    "\n",
    "print(bruto_uurloon)"
   ]
  },
  {
   "cell_type": "code",
   "execution_count": 10,
   "metadata": {},
   "outputs": [
    {
     "name": "stdout",
     "output_type": "stream",
     "text": [
      "\n"
     ]
    },
    {
     "ename": "ValueError",
     "evalue": "invalid literal for int() with base 10: ''",
     "output_type": "error",
     "traceback": [
      "\u001b[1;31m---------------------------------------------------------------------------\u001b[0m",
      "\u001b[1;31mValueError\u001b[0m                                Traceback (most recent call last)",
      "Cell \u001b[1;32mIn[10], line 8\u001b[0m\n\u001b[0;32m      6\u001b[0m basis_uurloon \u001b[38;5;241m=\u001b[39m \u001b[38;5;28minput\u001b[39m(\u001b[38;5;124m\"\u001b[39m\u001b[38;5;124mWat is je basis uurloon: \u001b[39m\u001b[38;5;124m\"\u001b[39m)\n\u001b[0;32m      7\u001b[0m onregelmatigheidstoeslag \u001b[38;5;241m=\u001b[39m \u001b[38;5;28minput\u001b[39m(\u001b[38;5;124m\"\u001b[39m\u001b[38;5;124mWat is het ORT: \u001b[39m\u001b[38;5;124m\"\u001b[39m)\n\u001b[1;32m----> 8\u001b[0m bruto_uurloon \u001b[38;5;241m=\u001b[39m \u001b[38;5;28;43mint\u001b[39;49m\u001b[43m(\u001b[49m\u001b[43mbasis_uurloon\u001b[49m\u001b[43m)\u001b[49m \u001b[38;5;241m*\u001b[39m \u001b[38;5;28mfloat\u001b[39m(onregelmatigheidstoeslag)\n\u001b[0;32m     10\u001b[0m \u001b[38;5;28mprint\u001b[39m(bruto_uurloon)\n",
      "\u001b[1;31mValueError\u001b[0m: invalid literal for int() with base 10: ''"
     ]
    }
   ],
   "source": [
    "# invoer\n",
    "naam = input(\"Wat is jouw naam? \")\n",
    "print(naam)\n",
    "\n",
    "\n",
    "basis_uurloon = input(\"Wat is je basis uurloon: \")\n",
    "onregelmatigheidstoeslag = input(\"Wat is het ORT: \")\n",
    "bruto_uurloon = int(basis_uurloon) * float(onregelmatigheidstoeslag)\n",
    "\n",
    "print(bruto_uurloon)"
   ]
  },
  {
   "cell_type": "code",
   "execution_count": null,
   "metadata": {},
   "outputs": [
    {
     "name": "stdout",
     "output_type": "stream",
     "text": [
      "Kevin\n",
      "Zwolle\n",
      "68\n"
     ]
    }
   ],
   "source": [
    "# college opdracht 1\n",
    "naam = input(\"Wat is je naam? \")\n",
    "woonplaats = input(\"Wat is je woonplaats? \")\n",
    "geboortejaar = input(\"Wat is je geboortejaar? \")\n",
    "\n",
    "print(naam)\n",
    "print(woonplaats)\n",
    "leeftijd = 2024 - int(geboortejaar)\n",
    "print(leeftijd)"
   ]
  },
  {
   "cell_type": "markdown",
   "metadata": {},
   "source": [
    "logische constructies"
   ]
  },
  {
   "cell_type": "code",
   "execution_count": null,
   "metadata": {},
   "outputs": [
    {
     "name": "stdout",
     "output_type": "stream",
     "text": [
      "Je bent 21 jaar of ouder\n"
     ]
    }
   ],
   "source": [
    "leeftijd = 25\n",
    "\n",
    "if leeftijd > 20:\n",
    "    print(\"Je bent 21 jaar of ouder\")"
   ]
  },
  {
   "cell_type": "code",
   "execution_count": null,
   "metadata": {},
   "outputs": [],
   "source": [
    "naam = \"Piet\"\n",
    "\n",
    "if naam == \"Piet\":\n",
    "    print(\"Jouw naam is Piet!\")"
   ]
  },
  {
   "cell_type": "code",
   "execution_count": null,
   "metadata": {},
   "outputs": [
    {
     "name": "stdout",
     "output_type": "stream",
     "text": [
      "Ongetwijfeld.\n"
     ]
    }
   ],
   "source": [
    "temperatuur = 18\n",
    "\n",
    "if temperatuur > 18:\n",
    "    print(\"Het is aardig warm!\")\n",
    "print(\"Ongetwijfeld.\")"
   ]
  },
  {
   "cell_type": "code",
   "execution_count": null,
   "metadata": {},
   "outputs": [
    {
     "name": "stdout",
     "output_type": "stream",
     "text": [
      "Het is een beetje frisjes\n"
     ]
    }
   ],
   "source": [
    "temperatuur = 16\n",
    "\n",
    "if temperatuur > 18:\n",
    "    print(\"Het is aardig warm!\")\n",
    "elif temperatuur > 15:\n",
    "    print(\"Het is een beetje frisjes\")\n",
    "elif temperatuur < 8:\n",
    "    print(\"Het is koud!\")\n"
   ]
  },
  {
   "cell_type": "code",
   "execution_count": 11,
   "metadata": {},
   "outputs": [],
   "source": [
    "temperatuur = 10\n",
    "\n",
    "if temperatuur > 18:\n",
    "    print(\"Het is aardig warm!\")\n",
    "elif temperatuur > 15:\n",
    "    print(\"Het is een beetje frisjes\")\n",
    "elif temperatuur < 8:\n",
    "    print(\"Het is koud!\")"
   ]
  },
  {
   "cell_type": "code",
   "execution_count": 12,
   "metadata": {},
   "outputs": [
    {
     "name": "stdout",
     "output_type": "stream",
     "text": [
      "Het is in ieder geval tussen 8 en 15 graden\n"
     ]
    }
   ],
   "source": [
    "temperatuur = 25\n",
    "\n",
    "if temperatuur > 18:\n",
    "    print(\"Het is aardig warm!\")\n",
    "elif temperatuur > 15:\n",
    "    print(\"Het is een beetje frisjes\")\n",
    "elif temperatuur < 8:\n",
    "    print(\"Het is koud!\")\n",
    "else:\n",
    "    print(\"Het is in ieder geval tussen 8 en 15 graden\")"
   ]
  },
  {
   "cell_type": "code",
   "execution_count": 14,
   "metadata": {},
   "outputs": [
    {
     "name": "stdout",
     "output_type": "stream",
     "text": [
      "Het is aardig warm!\n",
      "Het is een beetje frisjes\n",
      "Het is in ieder geval tussen 8 en 15 graden\n"
     ]
    }
   ],
   "source": [
    "temperatuur = 25\n",
    "\n",
    "if temperatuur > 18:\n",
    "    print(\"Het is aardig warm!\")\n",
    "if temperatuur > 15:\n",
    "    print(\"Het is een beetje frisjes\")\n",
    "if temperatuur < 8:\n",
    "    print(\"Het is koud!\")\n",
    "else:\n",
    "    print(\"Het is in ieder geval tussen 8 en 15 graden\")"
   ]
  },
  {
   "cell_type": "code",
   "execution_count": 15,
   "metadata": {},
   "outputs": [
    {
     "name": "stdout",
     "output_type": "stream",
     "text": [
      "Dit is de opleiding HBO-ICT\n",
      "Student Piet is aanwezig\n"
     ]
    },
    {
     "ename": "",
     "evalue": "",
     "output_type": "error",
     "traceback": [
      "\u001b[1;31mThe Kernel crashed while executing code in the current cell or a previous cell. \n",
      "\u001b[1;31mPlease review the code in the cell(s) to identify a possible cause of the failure. \n",
      "\u001b[1;31mClick <a href='https://aka.ms/vscodeJupyterKernelCrash'>here</a> for more info. \n",
      "\u001b[1;31mView Jupyter <a href='command:jupyter.viewOutput'>log</a> for further details."
     ]
    }
   ],
   "source": [
    "naam = \"Piet\"\n",
    "opleiding = \"HBO-ICT\"\n",
    "\n",
    "if opleiding == \"Pedagogiek\":\n",
    "    print(\"Dit is de opleiding pedagogiek\")\n",
    "elif opleiding == \"HBO-ICT\":\n",
    "    print(\"Dit is de opleiding HBO-ICT\")\n",
    "    if naam == \"Jan\":\n",
    "        print(\"Student Jan is aanwezig\")\n",
    "    elif naam == \"Piet\":\n",
    "        print(\"Student Piet is aanwezig\")\n",
    "else:\n",
    "    print(\"Dit is een onbekende opleiding\")"
   ]
  }
 ],
 "metadata": {
  "kernelspec": {
   "display_name": "Python 3 (ipykernel)",
   "language": "python",
   "name": "python3"
  },
  "language_info": {
   "codemirror_mode": {
    "name": "ipython",
    "version": 3
   },
   "file_extension": ".py",
   "mimetype": "text/x-python",
   "name": "python",
   "nbconvert_exporter": "python",
   "pygments_lexer": "ipython3",
   "version": "3.11.5"
  }
 },
 "nbformat": 4,
 "nbformat_minor": 2
}
