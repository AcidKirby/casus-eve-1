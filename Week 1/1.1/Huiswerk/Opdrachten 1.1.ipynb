{
 "cells": [
  {
   "cell_type": "markdown",
   "metadata": {},
   "source": [
    "# Les 1.1"
   ]
  },
  {
   "cell_type": "markdown",
   "metadata": {},
   "source": [
    "### Opdracht 1.1\n",
    "Maak een programma dat de gebruiker om zijn straat, huisnummer en plaats vraagt en het adres vervolgens in een bepaald formaat weergeeft."
   ]
  },
  {
   "cell_type": "code",
   "execution_count": 1,
   "metadata": {},
   "outputs": [
    {
     "name": "stdout",
     "output_type": "stream",
     "text": [
      "Dan is je adres dus:\n"
     ]
    }
   ],
   "source": [
    "# opdracht 1.1\n",
    "\n",
    "# Vraag de gebruiker om straat, huisnummer en plaats\n",
    "straat = input(\"In welke straat woon je? \")\n",
    "# ...\n",
    "\n",
    "# Toon het adres\n",
    "print(\"Dan is je adres dus:\")\n",
    "# ...\n"
   ]
  },
  {
   "cell_type": "markdown",
   "metadata": {},
   "source": [
    "#### Opdracht 1.1b\n",
    "Breid het programma uit met de vraag naar de postcode en toon deze in het adres."
   ]
  },
  {
   "cell_type": "code",
   "execution_count": 3,
   "metadata": {},
   "outputs": [],
   "source": [
    "# opdracht 1.1b\n",
    "# gebruik hier de code van 1.1"
   ]
  },
  {
   "cell_type": "markdown",
   "metadata": {},
   "source": [
    "### Opdracht 1.2\n",
    "Voorspel wat de volgende code laat zien en test het vervolgens."
   ]
  },
  {
   "cell_type": "code",
   "execution_count": null,
   "metadata": {},
   "outputs": [],
   "source": [
    "# opdracht 1.2\n",
    "\n",
    "tekst1 = \"abc\"\n",
    "print(tekst1)\n",
    "tekst2 = tekst1 + tekst1\n",
    "print(tekst2)"
   ]
  },
  {
   "cell_type": "markdown",
   "metadata": {},
   "source": [
    "### Opdracht 1.3\n",
    "Voorspel wat de volgende code laat zien en test het vervolgens."
   ]
  },
  {
   "cell_type": "code",
   "execution_count": null,
   "metadata": {},
   "outputs": [],
   "source": [
    "tekst = \"a\"\n",
    "tekst = tekst + tekst\n",
    "print(tekst)"
   ]
  },
  {
   "cell_type": "markdown",
   "metadata": {},
   "source": [
    "#### Opdracht 1.3b\n",
    "Maak een programma dat dezelfde variabele meerdere keren verdubbelt en de resultaten toont, de output staat hieronder.\n",
    "\n",
    "```\n",
    "a\n",
    "aa\n",
    "aaaa\n",
    "aaaaaaaa\n",
    "```"
   ]
  },
  {
   "cell_type": "code",
   "execution_count": null,
   "metadata": {},
   "outputs": [],
   "source": [
    "# opdracht 1.3b"
   ]
  },
  {
   "cell_type": "markdown",
   "metadata": {},
   "source": [
    "#### Opdracht 1.3c\n",
    "Laat bij elke regel ook zien uit hoeveel letters deze bestaat."
   ]
  },
  {
   "cell_type": "code",
   "execution_count": null,
   "metadata": {},
   "outputs": [],
   "source": [
    "# opdracht 1.3c"
   ]
  },
  {
   "cell_type": "markdown",
   "metadata": {},
   "source": [
    "### Opdracht 1.4\n",
    "Maak een programma dat om drie getallen vraagt, het gemiddelde berekent en weergeeft."
   ]
  },
  {
   "cell_type": "code",
   "execution_count": null,
   "metadata": {},
   "outputs": [],
   "source": [
    "# opdracht 1.4\n",
    "\n",
    "# Vraag de gebruiker om drie getallen\n",
    "\n",
    "# Bereken het gemiddelde\n",
    "\n",
    "# Toon het gemiddelde\n"
   ]
  },
  {
   "cell_type": "markdown",
   "metadata": {},
   "source": [
    "### Opdracht 1.5\n",
    "Maak een programma dat de gebruiker om de huidige etage en de gewenste etage vraagt en de beweging weergeeft."
   ]
  },
  {
   "cell_type": "code",
   "execution_count": null,
   "metadata": {},
   "outputs": [],
   "source": [
    "# Vraag de gebruiker om de huidige en gewenste etage\n",
    "\n",
    "# Toon de beweging\n"
   ]
  },
  {
   "cell_type": "markdown",
   "metadata": {},
   "source": [
    "#### Opdracht 1.5b\n",
    "Voeg een if-statement toe om te bepalen of de gebruiker naar boven gaat."
   ]
  },
  {
   "cell_type": "code",
   "execution_count": null,
   "metadata": {},
   "outputs": [],
   "source": [
    "# opdracht 1.5b"
   ]
  },
  {
   "cell_type": "markdown",
   "metadata": {},
   "source": [
    "#### Opdracht 1.5c\n",
    "Voeg een if-statement toe om te bepalen of de gebruiker naar beneden gaat."
   ]
  },
  {
   "cell_type": "code",
   "execution_count": null,
   "metadata": {},
   "outputs": [],
   "source": [
    "# opdracht 1.5c"
   ]
  },
  {
   "cell_type": "markdown",
   "metadata": {},
   "source": [
    "### Opdracht 1.6\n",
    "Schrijf een programma dat om een rapportcijfer vraagt en aangeeft of het een voldoende is of niet."
   ]
  },
  {
   "cell_type": "code",
   "execution_count": null,
   "metadata": {},
   "outputs": [],
   "source": [
    "# opdracht 1.6\n",
    "\n",
    "# Vraag de gebruiker om een rapportcijfer\n",
    "\n",
    "# Controleer of het een voldoende is\n"
   ]
  },
  {
   "cell_type": "markdown",
   "metadata": {},
   "source": [
    "#### Opdracht 1.6b\n",
    "Voeg gedetailleerde beoordelingen toe op basis van het cijfer.\n",
    "\n",
    "| **Cijfer** | **Omschrijving** |\n",
    "|------------|------------------|\n",
    "| 9 en hoger | Uitstekend       |\n",
    "| 8          | Goed             |\n",
    "| 7          | Ruim voldoende   |\n",
    "| 6          | Voldoende        |\n",
    "| 5          | Matig            |\n",
    "| 4 en lager         | Onvoldoende      |"
   ]
  },
  {
   "cell_type": "code",
   "execution_count": null,
   "metadata": {},
   "outputs": [],
   "source": [
    "# opdracht 1.6b"
   ]
  },
  {
   "cell_type": "markdown",
   "metadata": {},
   "source": [
    "### Opdracht 1.7\n",
    "Schrijf een programma dat om drie getallen vraagt en het grootste getal bepaalt."
   ]
  },
  {
   "cell_type": "code",
   "execution_count": null,
   "metadata": {},
   "outputs": [],
   "source": [
    "# opdracht 1.7"
   ]
  },
  {
   "cell_type": "markdown",
   "metadata": {},
   "source": [
    "#### Opdracht 1.7b\n",
    "Controleer of de drie getallen hetzelfde zijn."
   ]
  },
  {
   "cell_type": "code",
   "execution_count": null,
   "metadata": {},
   "outputs": [],
   "source": [
    "# opdracht 1.7b"
   ]
  },
  {
   "cell_type": "markdown",
   "metadata": {},
   "source": [
    "#### Opdracht 1.7c\n",
    "Controleer of twee van de drie getallen gelijk zijn."
   ]
  },
  {
   "cell_type": "code",
   "execution_count": null,
   "metadata": {},
   "outputs": [],
   "source": [
    "# opdracht 1.7c"
   ]
  },
  {
   "cell_type": "markdown",
   "metadata": {},
   "source": [
    "#### Opdracht 1.7d\n",
    "Controleer of de getallen oplopend zijn."
   ]
  },
  {
   "cell_type": "code",
   "execution_count": null,
   "metadata": {},
   "outputs": [],
   "source": [
    "# opdracht 1.7d"
   ]
  },
  {
   "cell_type": "markdown",
   "metadata": {},
   "source": [
    "### Opdracht 1.8\n",
    "\n",
    "Schrijf een Python-programma dat de gebruiker om twee getallen vraagt en vervolgens de som (+), het verschil (-), het product (*) en het quotiënt (/) van deze getallen berekent en weergeeft."
   ]
  },
  {
   "cell_type": "code",
   "execution_count": null,
   "metadata": {},
   "outputs": [],
   "source": [
    "# opdracht 1.8\n",
    "\n",
    "# Vraag de gebruiker om twee getallen in te voeren\n",
    "getal1 = float(input(\"Voer het eerste getal in: \"))\n",
    "getal2 = float(input(\"Voer het tweede getal in: \"))\n",
    "\n",
    "# Bereken de som van de twee getallen\n",
    "# Voeg hier de berekening voor de som toe\n",
    "\n",
    "# Bereken het verschil van de twee getallen\n",
    "# Voeg hier de berekening voor het verschil toe\n",
    "\n",
    "# etc. etc. etc..."
   ]
  },
  {
   "cell_type": "markdown",
   "metadata": {},
   "source": [
    "### Opdracht 1.9\n",
    "\n",
    "Schrijf een programma dat de gebruiker om zijn cijfers voor drie toetsen vraagt en vervolgens het gemiddelde berekent, aangeeft of de student geslaagd is (gemiddelde >= 5.5) en waarschuwingen geeft voor eventuele onvoldoendes."
   ]
  },
  {
   "cell_type": "code",
   "execution_count": null,
   "metadata": {},
   "outputs": [],
   "source": [
    "# opdracht 1.9\n",
    "\n",
    "# Vraag de gebruiker om zijn cijfers voor drie toetsen\n",
    "cijfer1 = float(input(\"Voer het cijfer voor toets 1 in: \"))\n",
    "\n",
    "# Bereken het gemiddelde van de cijfers\n",
    "\n",
    "# Bepaal of de student geslaagd is\n",
    "\n",
    "# Waarschuw voor onvoldoendes"
   ]
  },
  {
   "cell_type": "markdown",
   "metadata": {},
   "source": [
    "### Opdracht 1.10\n",
    "\n",
    "Schrijf een programma dat de gebruiker om zijn gewicht (in kilogram) en lengte (in meters) vraagt en vervolgens zijn Body Mass Index (BMI) berekent en een classificatie weergeeft (Ondergewicht, Normaal gewicht, Overgewicht, Obesitas)."
   ]
  },
  {
   "cell_type": "code",
   "execution_count": null,
   "metadata": {},
   "outputs": [],
   "source": [
    "# opdracht 1.10\n",
    "\n",
    "# Vraag de gebruiker om gewicht en lengte\n",
    "\n",
    "# Bereken de BMI\n",
    "\n",
    "# Classificeer de BMI\n",
    "\n",
    "# Toon de BMI en classificatie"
   ]
  },
  {
   "cell_type": "markdown",
   "metadata": {},
   "source": [
    "### Opdracht 1.11\n",
    "\n",
    "Schrijf een programma dat de gebruiker om zijn geboortedatum (jaar, maand, dag) vraagt en vervolgens zijn leeftijd berekent en aangeeft of de gebruiker oud genoeg is om te stemmen (18 jaar of ouder)."
   ]
  },
  {
   "cell_type": "code",
   "execution_count": null,
   "metadata": {},
   "outputs": [],
   "source": [
    "# opdracht 1.11\n",
    "\n",
    "# Vraag de gebruiker om zijn geboortedatum\n",
    "geboortejaar = int(input(\"Voer je geboortejaar in: \"))\n",
    "# etc...\n",
    "\n",
    "# Bereken de huidige leeftijd\n",
    "huidig_jaar = 2024\n",
    "huidig_maand = 5  # Stel de huidige maand in\n",
    "huidig_dag = 21   # Stel de huidige dag in\n",
    "\n",
    "# etc...\n",
    "\n",
    "# Controleer of de gebruiker oud genoeg is om te stemmen"
   ]
  }
 ],
 "metadata": {
  "kernelspec": {
   "display_name": "Python 3 (ipykernel)",
   "language": "python",
   "name": "python3"
  },
  "language_info": {
   "codemirror_mode": {
    "name": "ipython",
    "version": 3
   },
   "file_extension": ".py",
   "mimetype": "text/x-python",
   "name": "python",
   "nbconvert_exporter": "python",
   "pygments_lexer": "ipython3",
   "version": "3.11.5"
  }
 },
 "nbformat": 4,
 "nbformat_minor": 2
}
