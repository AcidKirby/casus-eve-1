{
 "cells": [
  {
   "cell_type": "code",
   "execution_count": null,
   "metadata": {},
   "outputs": [],
   "source": [
    "song1 = \"Getting Older\"\n",
    "song2 = \"I didn't change my number\"\n",
    "song3 = \"Billy Bossa Nova\"\n",
    "song4 = \"my future\"\n",
    "song5 = \"Oxytocin\"\n",
    "#song6, song7, song8, song15....."
   ]
  },
  {
   "cell_type": "code",
   "execution_count": null,
   "metadata": {},
   "outputs": [],
   "source": [
    "song1 = \"Getting Older\"\n",
    "song2 = \"I didn't change my number\"\n",
    "song3 = \"Billy Bossa Nova\"\n",
    "song4 = \"my future\"\n",
    "song5 = \"Oxytocin\"\n",
    "#song6, song7, song8, song15.....\n",
    "\n",
    "print(song1)\n",
    "print(song2)\n",
    "print(song3)\n",
    "print(song4)\n",
    "print(song5)"
   ]
  },
  {
   "cell_type": "code",
   "execution_count": null,
   "metadata": {},
   "outputs": [],
   "source": [
    "# lijst met alleen strings\n",
    "fruit = [\"Appel\", \"Peer\", \"Banaan\", \"Meloen\"]\n",
    "\n",
    "# lijst met alleen ints\n",
    "wasmachine_graden = [20, 30, 40, 70, 95]\n",
    "\n",
    "# lijst met alleen floats\n",
    "euromunten = [0.05, 0.10, 0.20, 0.50, 1.00, 2.00]\n",
    "\n",
    "# lijst met gecombineerde datatypen\n",
    "random_lijst = [\"Hallo\", \"iedereen\", 59757, True]\n",
    "\n",
    "# lijst met een lijst\n",
    "talen = [\"Zonnig\", \"Regenachtig\", [15, 30, 45], \"Bewolkt\"]"
   ]
  },
  {
   "cell_type": "code",
   "execution_count": 3,
   "metadata": {},
   "outputs": [
    {
     "name": "stdout",
     "output_type": "stream",
     "text": [
      "['Appel', 'Peer', 'Banaan', 'Meloen']\n"
     ]
    }
   ],
   "source": [
    "fruit = [\"Appel\", \"Peer\", \"Banaan\", \"Meloen\"]\n",
    "print(fruit)"
   ]
  },
  {
   "cell_type": "code",
   "execution_count": 5,
   "metadata": {},
   "outputs": [
    {
     "name": "stdout",
     "output_type": "stream",
     "text": [
      "['Appel', 'Peer', 'Druif', 'Meloen']\n"
     ]
    }
   ],
   "source": [
    "fruit = [\"Appel\", \"Peer\", \"Banaan\", \"Meloen\"]\n",
    "fruit[2] = \"Druif\"\n",
    "print(fruit)"
   ]
  },
  {
   "cell_type": "code",
   "execution_count": 6,
   "metadata": {},
   "outputs": [
    {
     "name": "stdout",
     "output_type": "stream",
     "text": [
      "Banaan\n"
     ]
    }
   ],
   "source": [
    "fruit = [\"Appel\", \"Peer\", \"Banaan\", \"Meloen\"]\n",
    "print(fruit[-2])"
   ]
  },
  {
   "cell_type": "code",
   "execution_count": 8,
   "metadata": {},
   "outputs": [
    {
     "name": "stdout",
     "output_type": "stream",
     "text": [
      "Flevoland\n",
      "Noord-Holland\n",
      "Drenthe\n",
      "Aruba\n",
      "Utrecht\n",
      "Zuid-Holland\n"
     ]
    }
   ],
   "source": [
    "provincies = [\"Groningen\", \"Friesland\", \"Drenthe\", \"Flevoland\", \"Gelderland\", \"Overijssel\", \n",
    "              \"Utrecht\", \"Noord-Holland\", \"Zuid-Holland\", \"Zeeland\", \"Noord-Brabant\", \"Limburg\"]\n",
    "\n",
    "print(provincies[3])\n",
    "\n",
    "print(provincies[-5])\n",
    "\n",
    "provincies[4] = \"Aruba\"\n",
    "for index in range(2, 9, 2):\n",
    "    print(provincies[index])"
   ]
  },
  {
   "cell_type": "code",
   "execution_count": 9,
   "metadata": {},
   "outputs": [
    {
     "name": "stdout",
     "output_type": "stream",
     "text": [
      "Drenthe\n",
      "Aruba\n",
      "Utrecht\n",
      "Zuid-Holland\n"
     ]
    }
   ],
   "source": [
    "provincies = [\"Groningen\", \"Friesland\", \"Drenthe\", \n",
    "              \"Flevoland\", \"Gelderland\", \"Overijssel\", \n",
    "              \"Utrecht\", \"Noord-Holland\", \"Zuid-Holland\", \n",
    "              \"Zeeland\", \"Noord-Brabant\", \"Limburg\"]\n",
    "\n",
    "provincies[4] = \"Aruba\"\n",
    "for index in range(2, 9, 2):\n",
    "    print(provincies[index])"
   ]
  },
  {
   "cell_type": "code",
   "execution_count": 10,
   "metadata": {},
   "outputs": [
    {
     "name": "stdout",
     "output_type": "stream",
     "text": [
      "a: ['Appel', 'Peer', 'Banaan', 'Meloen']\n",
      "b: ['Appel', 'Peer', 'Banaan', 'Meloen', 'Kiwi']\n",
      "c: ['Appel', 'Peer', 'Druif', 'Banaan', 'Meloen', 'Kiwi']\n",
      "d: ['Appel', 'Druif', 'Banaan', 'Meloen', 'Kiwi']\n",
      "e1: ['Appel', 'Banaan', 'Meloen', 'Kiwi']\n",
      "e2: weg is: Druif\n",
      "f: 1\n",
      "g: Meloen gevonden!\n",
      "h: []\n"
     ]
    }
   ],
   "source": [
    "fruit = [\"Appel\", \"Peer\", \"Banaan\", \"Meloen\"]\n",
    "print(f\"a: {fruit}\")\n",
    "\n",
    "fruit.append('Kiwi') # 'kiwi' toevoegen aan het eind\n",
    "print(f\"b: {fruit}\")\n",
    "\n",
    "fruit.insert(2, 'Druif') # zet 'druif' ertussen op index 2\n",
    "print(f\"c: {fruit}\")\n",
    "\n",
    "fruit.remove('Peer') # 'peer' verwijderen\n",
    "print(f\"d: {fruit}\")\n",
    "\n",
    "weg = fruit.pop(1) # de waarde op index 1 verwijderen (pop heeft een return waarde)\n",
    "print(f\"e1: {fruit}\")\n",
    "print(f\"e2: weg is: {weg}\")\n",
    "\n",
    "zoek_index = fruit.index('Banaan') # print de index waarop 'banaan' staat. Geeft een foutmelding als niet gevonden.\n",
    "print(f\"f: {zoek_index}\")\n",
    "\n",
    "if 'Meloen' in fruit:\n",
    "    print(f\"g: Meloen gevonden!\")\n",
    "\n",
    "fruit.clear() # verwijder alle elementen \n",
    "print(f\"h: {fruit}\")"
   ]
  },
  {
   "cell_type": "code",
   "execution_count": 12,
   "metadata": {},
   "outputs": [
    {
     "name": "stdout",
     "output_type": "stream",
     "text": [
      "Appel\n",
      "Peer\n",
      "Banaan\n",
      "Meloen\n"
     ]
    }
   ],
   "source": [
    "fruit = [\"Appel\", \"Peer\", \"Banaan\", \"Meloen\"]\n",
    "for index in range(len(fruit)): # 4\n",
    "    print(fruit[index]) # Appel, Peer, Banaan, Meloen"
   ]
  },
  {
   "cell_type": "code",
   "execution_count": 13,
   "metadata": {},
   "outputs": [
    {
     "name": "stdout",
     "output_type": "stream",
     "text": [
      "Appel\n",
      "Peer\n",
      "Banaan\n",
      "Meloen\n"
     ]
    }
   ],
   "source": [
    "fruit = [\"Appel\", \"Peer\", \"Banaan\", \"Meloen\"]\n",
    "for fruit_element in fruit:\n",
    "    print(fruit_element) # Appel, Peer, Banaan, Meloen"
   ]
  },
  {
   "cell_type": "code",
   "execution_count": 11,
   "metadata": {},
   "outputs": [
    {
     "name": "stdout",
     "output_type": "stream",
     "text": [
      "Nederlan is toegevoegd aan uw lijst van bezochte landen\n",
      "Duitslan is toegevoegd aan uw lijst van bezochte landen\n",
      "Belgie is toegevoegd aan uw lijst van bezochte landen\n",
      "\n",
      "U heeft deze landen bezocht tijdens uw cruise:\n",
      "Nederlan\n",
      "Duitslan\n",
      "Belgie\n"
     ]
    }
   ],
   "source": [
    "aantal_landen = int(input(\"Hoeveel landen heeft uw cruise bezocht? \"))\n",
    "bezochte_landen = []\n",
    "\n",
    "for i in range(aantal_landen):\n",
    "    land = input(f\"Geef het land op dat u bezocht heeft ({i+1}/{aantal_landen}): \")\n",
    "\n",
    "    if land in bezochte_landen:\n",
    "        print(f\"U bent al naar {land} geweest\")\n",
    "    else:\n",
    "        bezochte_landen.append(land)\n",
    "        print(f\"{land} is toegevoegd aan uw lijst van bezochte landen\")\n",
    "\n",
    "print(\"\\nU heeft deze landen bezocht tijdens uw cruise:\")\n",
    "for land in bezochte_landen:\n",
    "    print(land)\n"
   ]
  },
  {
   "cell_type": "code",
   "execution_count": 14,
   "metadata": {},
   "outputs": [
    {
     "name": "stdout",
     "output_type": "stream",
     "text": [
      "DE: Berlijn\n",
      "Berlijn\n"
     ]
    }
   ],
   "source": [
    "list_landen_met_hoofdsteden = [\"NL - Amsterdam\", \"DE - Berlijn\", \"FR - Parijs\"]\n",
    "print(list_landen_met_hoofdsteden[1]) # output: DE: Berlijn\n",
    "\n",
    "dict_landen_met_hoofdsteden = { \"NL\": \"Amsterdam\", \"DE\": \"Berlijn\", \"FR\": \"Parijs\"}\n",
    "print(dict_landen_met_hoofdsteden[\"DE\"]) # output: Berlijn"
   ]
  },
  {
   "cell_type": "code",
   "execution_count": 16,
   "metadata": {},
   "outputs": [
    {
     "name": "stdout",
     "output_type": "stream",
     "text": [
      "NL\n",
      "DE\n",
      "FR\n"
     ]
    }
   ],
   "source": [
    "list_landen_met_hoofdsteden = [\"NL - Amsterdam\", \"DE - Berlijn\", \"FR - Parijs\"]\n",
    "dict_landen_met_hoofdsteden = { \"NL\": \"Amsterdam\", \"DE\": \"Berlijn\", \"FR\": \"Parijs\"}\n",
    "\n",
    "for index in range(0, len(list_landen_met_hoofdsteden)):\n",
    "    print(list_landen_met_hoofdsteden[index])\n",
    "\n",
    "for land in list_landen_met_hoofdsteden:\n",
    "    print(land)\n",
    "\n",
    "for index in range(0, len(dict_landen_met_hoofdsteden)):\n",
    "    print(dict_landen_met_hoofdsteden[index])\n",
    "\n",
    "for land in dict_landen_met_hoofdsteden:\n",
    "    print(land)"
   ]
  },
  {
   "cell_type": "code",
   "execution_count": 17,
   "metadata": {},
   "outputs": [
    {
     "name": "stdout",
     "output_type": "stream",
     "text": [
      "Amsterdam\n",
      "Berlijn\n",
      "Parijs\n"
     ]
    }
   ],
   "source": [
    "dict_landen_met_hoofdsteden = { \"NL\": \"Amsterdam\", \"DE\": \"Berlijn\", \"FR\": \"Parijs\"}\n",
    "\n",
    "for land in dict_landen_met_hoofdsteden.values():\n",
    "    print(land)"
   ]
  },
  {
   "cell_type": "code",
   "execution_count": 18,
   "metadata": {},
   "outputs": [
    {
     "name": "stdout",
     "output_type": "stream",
     "text": [
      "Land: NL, hoofdstad: Amsterdam\n",
      "Land: DE, hoofdstad: Berlijn\n",
      "Land: FR, hoofdstad: Parijs\n"
     ]
    }
   ],
   "source": [
    "dict_landen_met_hoofdsteden = { \"NL\": \"Amsterdam\", \"DE\": \"Berlijn\", \"FR\": \"Parijs\"}\n",
    "\n",
    "for land, hoofdstad in dict_landen_met_hoofdsteden.items():\n",
    "    print(f\"Land: {land}, hoofdstad: {hoofdstad}\")"
   ]
  },
  {
   "cell_type": "markdown",
   "metadata": {},
   "source": [
    "Onderstaande code werkt niet, waarom:\n",
    "\n",
    "Het probleem dat je ondervindt komt door het aanpassen van de lijsten lijst1 en lijst2 terwijl je erdoorheen itereert. Wanneer je een element verwijdert uit een lijst waar je op dat moment doorheen itereert, verandert de lengte van de lijst en dit kan leiden tot het overslaan van elementen.\n",
    "\n",
    "In jouw geval, wanneer i gelijk is aan 3 (en dus voldoet aan de voorwaarde if i == j), verwijder je 3 uit zowel lijst1 als lijst2. Dit vermindert de lengte van lijst1 terwijl de lus nog bezig is, waardoor de volgende waarde (4) wordt overgeslagen wanneer de volgende iteratie van de buitenste lus begint, omdat de interne pointer (die bijhoudt waar je in de lijst bent) al naar het volgende element is verplaatst. Dit resulteert in het feit dat 4 niet wordt gecontroleerd en dus wordt overgeslagen, waardoor je eindresultaat alleen [3, 5] bevat in plaats van [3, 4, 5]."
   ]
  },
  {
   "cell_type": "code",
   "execution_count": 26,
   "metadata": {},
   "outputs": [
    {
     "name": "stdout",
     "output_type": "stream",
     "text": [
      "[3, 5]\n"
     ]
    }
   ],
   "source": [
    "lijst1 = [1, 2, 3, 4, 5]\n",
    "lijst2 = [3, 4, 5, 6, 7]\n",
    "lijst3 = []\n",
    "\n",
    "for i in lijst1:\n",
    "    for j in lijst2:\n",
    "        if i == j:\n",
    "            lijst3.append(i)\n",
    "\n",
    "            lijst1.remove(i)\n",
    "            lijst2.remove(i)\n",
    "\n",
    "print(lijst3)\n"
   ]
  },
  {
   "cell_type": "markdown",
   "metadata": {},
   "source": [
    "maak gebruik van de .copy() methode\n"
   ]
  },
  {
   "cell_type": "code",
   "execution_count": 28,
   "metadata": {},
   "outputs": [
    {
     "name": "stdout",
     "output_type": "stream",
     "text": [
      "[1, 2, 3, 4, 5]\n",
      "[3, 4, 5, 6, 7]\n",
      "[]\n",
      "[1, 2]\n",
      "[6, 7]\n",
      "[3, 4, 5]\n"
     ]
    }
   ],
   "source": [
    "lijst1 = [1, 2, 3, 4, 5]\n",
    "lijst2 = [3, 4, 5, 6, 7]\n",
    "lijst3 = []\n",
    "\n",
    "print(lijst1)\n",
    "print(lijst2)\n",
    "print(lijst3)\n",
    "\n",
    "for i in lijst1.copy():\n",
    "    for j in lijst2.copy():\n",
    "        if i == j:\n",
    "            lijst3.append(i)\n",
    "\n",
    "            lijst1.remove(i)\n",
    "            lijst2.remove(i)\n",
    "\n",
    "print(lijst1)\n",
    "print(lijst2)\n",
    "print(lijst3)"
   ]
  }
 ],
 "metadata": {
  "kernelspec": {
   "display_name": "Python 3",
   "language": "python",
   "name": "python3"
  },
  "language_info": {
   "codemirror_mode": {
    "name": "ipython",
    "version": 3
   },
   "file_extension": ".py",
   "mimetype": "text/x-python",
   "name": "python",
   "nbconvert_exporter": "python",
   "pygments_lexer": "ipython3",
   "version": "3.11.8"
  }
 },
 "nbformat": 4,
 "nbformat_minor": 2
}
